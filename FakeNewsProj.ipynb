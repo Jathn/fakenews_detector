{
 "cells": [
  {
   "cell_type": "markdown",
   "id": "c0e0e356-9e69-4667-a745-67828e21c63c",
   "metadata": {},
   "source": [
    "# Labeling News Reports"
   ]
  },
  {
   "cell_type": "markdown",
   "id": "e02e81bb-fc83-4f4d-a972-be11c5548aea",
   "metadata": {},
   "source": [
    "## Introduction\n",
    "This Project was created as part of Aalto University, Machine Learning D as a ML project with intention to solve a real-life problem with Machine Learning.\n",
    "\n",
    "The specific idea is to labelize News Reports as either True or Fake to enable successfull creation of a model which can detect fake news."
   ]
  },
  {
   "cell_type": "markdown",
   "id": "1a31f8ac-0f2b-4792-9c5f-58f1e8deccd6",
   "metadata": {},
   "source": [
    "##### *Performing library imports & loading the datasets into pandas (pd) dataframes*"
   ]
  },
  {
   "cell_type": "code",
   "execution_count": 1,
   "id": "83cd2161-6d86-4d01-944b-829f34e43ce4",
   "metadata": {},
   "outputs": [],
   "source": [
    "# Loading libraries\n",
    "from collections import Counter\n",
    "import matplotlib.pyplot as plt\n",
    "import pandas as pd\n",
    "import numpy as np\n",
    "import nltk\n",
    "from nltk.stem import SnowballStemmer\n",
    "from nltk.corpus import stopwords\n",
    "from sklearn.linear_model import LogisticRegression\n",
    "from sklearn.svm import SVC\n",
    "from sklearn.naive_bayes import MultinomialNB\n",
    "from sklearn.preprocessing import Normalizer\n",
    "from sklearn.feature_extraction import DictVectorizer\n",
    "from sklearn.feature_selection import SequentialFeatureSelector\n",
    "from sklearn.model_selection import train_test_split, RandomizedSearchCV\n",
    "from sklearn.ensemble import RandomForestClassifier\n",
    "from sklearn.metrics import accuracy_score, confusion_matrix\n",
    "import seaborn as sns\n",
    "import sys"
   ]
  },
  {
   "cell_type": "code",
   "execution_count": 2,
   "id": "f41e1091-8b09-43ed-a905-94cfec9c714d",
   "metadata": {},
   "outputs": [],
   "source": [
    "true_df = pd.read_csv('datasets/true.csv')\n",
    "fake_df = pd.read_csv('datasets/fake.csv')"
   ]
  },
  {
   "cell_type": "markdown",
   "id": "11d00d12-6b95-44ab-9791-f4e6c8d220e8",
   "metadata": {},
   "source": [
    "##### *First looks at true (non-fake) news dataset*"
   ]
  },
  {
   "cell_type": "code",
   "execution_count": 3,
   "id": "ca855646-edc1-4349-98c7-2b740afd60ee",
   "metadata": {},
   "outputs": [
    {
     "data": {
      "text/html": [
       "<div>\n",
       "<style scoped>\n",
       "    .dataframe tbody tr th:only-of-type {\n",
       "        vertical-align: middle;\n",
       "    }\n",
       "\n",
       "    .dataframe tbody tr th {\n",
       "        vertical-align: top;\n",
       "    }\n",
       "\n",
       "    .dataframe thead th {\n",
       "        text-align: right;\n",
       "    }\n",
       "</style>\n",
       "<table border=\"1\" class=\"dataframe\">\n",
       "  <thead>\n",
       "    <tr style=\"text-align: right;\">\n",
       "      <th></th>\n",
       "      <th>title</th>\n",
       "      <th>text</th>\n",
       "      <th>subject</th>\n",
       "      <th>date</th>\n",
       "    </tr>\n",
       "  </thead>\n",
       "  <tbody>\n",
       "    <tr>\n",
       "      <th>0</th>\n",
       "      <td>As U.S. budget fight looms, Republicans flip t...</td>\n",
       "      <td>WASHINGTON (Reuters) - The head of a conservat...</td>\n",
       "      <td>politicsNews</td>\n",
       "      <td>December 31, 2017</td>\n",
       "    </tr>\n",
       "    <tr>\n",
       "      <th>1</th>\n",
       "      <td>U.S. military to accept transgender recruits o...</td>\n",
       "      <td>WASHINGTON (Reuters) - Transgender people will...</td>\n",
       "      <td>politicsNews</td>\n",
       "      <td>December 29, 2017</td>\n",
       "    </tr>\n",
       "    <tr>\n",
       "      <th>2</th>\n",
       "      <td>Senior U.S. Republican senator: 'Let Mr. Muell...</td>\n",
       "      <td>WASHINGTON (Reuters) - The special counsel inv...</td>\n",
       "      <td>politicsNews</td>\n",
       "      <td>December 31, 2017</td>\n",
       "    </tr>\n",
       "    <tr>\n",
       "      <th>3</th>\n",
       "      <td>FBI Russia probe helped by Australian diplomat...</td>\n",
       "      <td>WASHINGTON (Reuters) - Trump campaign adviser ...</td>\n",
       "      <td>politicsNews</td>\n",
       "      <td>December 30, 2017</td>\n",
       "    </tr>\n",
       "    <tr>\n",
       "      <th>4</th>\n",
       "      <td>Trump wants Postal Service to charge 'much mor...</td>\n",
       "      <td>SEATTLE/WASHINGTON (Reuters) - President Donal...</td>\n",
       "      <td>politicsNews</td>\n",
       "      <td>December 29, 2017</td>\n",
       "    </tr>\n",
       "  </tbody>\n",
       "</table>\n",
       "</div>"
      ],
      "text/plain": [
       "                                               title  \\\n",
       "0  As U.S. budget fight looms, Republicans flip t...   \n",
       "1  U.S. military to accept transgender recruits o...   \n",
       "2  Senior U.S. Republican senator: 'Let Mr. Muell...   \n",
       "3  FBI Russia probe helped by Australian diplomat...   \n",
       "4  Trump wants Postal Service to charge 'much mor...   \n",
       "\n",
       "                                                text       subject  \\\n",
       "0  WASHINGTON (Reuters) - The head of a conservat...  politicsNews   \n",
       "1  WASHINGTON (Reuters) - Transgender people will...  politicsNews   \n",
       "2  WASHINGTON (Reuters) - The special counsel inv...  politicsNews   \n",
       "3  WASHINGTON (Reuters) - Trump campaign adviser ...  politicsNews   \n",
       "4  SEATTLE/WASHINGTON (Reuters) - President Donal...  politicsNews   \n",
       "\n",
       "                 date  \n",
       "0  December 31, 2017   \n",
       "1  December 29, 2017   \n",
       "2  December 31, 2017   \n",
       "3  December 30, 2017   \n",
       "4  December 29, 2017   "
      ]
     },
     "execution_count": 3,
     "metadata": {},
     "output_type": "execute_result"
    }
   ],
   "source": [
    "true_df.head()"
   ]
  },
  {
   "cell_type": "code",
   "execution_count": 4,
   "id": "01675946-de00-4dfa-a960-994b44da2db2",
   "metadata": {},
   "outputs": [
    {
     "data": {
      "text/html": [
       "<div>\n",
       "<style scoped>\n",
       "    .dataframe tbody tr th:only-of-type {\n",
       "        vertical-align: middle;\n",
       "    }\n",
       "\n",
       "    .dataframe tbody tr th {\n",
       "        vertical-align: top;\n",
       "    }\n",
       "\n",
       "    .dataframe thead th {\n",
       "        text-align: right;\n",
       "    }\n",
       "</style>\n",
       "<table border=\"1\" class=\"dataframe\">\n",
       "  <thead>\n",
       "    <tr style=\"text-align: right;\">\n",
       "      <th></th>\n",
       "      <th>title</th>\n",
       "      <th>text</th>\n",
       "      <th>subject</th>\n",
       "      <th>date</th>\n",
       "    </tr>\n",
       "  </thead>\n",
       "  <tbody>\n",
       "    <tr>\n",
       "      <th>count</th>\n",
       "      <td>21417</td>\n",
       "      <td>21417</td>\n",
       "      <td>21417</td>\n",
       "      <td>21417</td>\n",
       "    </tr>\n",
       "    <tr>\n",
       "      <th>unique</th>\n",
       "      <td>20826</td>\n",
       "      <td>21192</td>\n",
       "      <td>2</td>\n",
       "      <td>716</td>\n",
       "    </tr>\n",
       "    <tr>\n",
       "      <th>top</th>\n",
       "      <td>Factbox: Trump fills top jobs for his administ...</td>\n",
       "      <td>(Reuters) - Highlights for U.S. President Dona...</td>\n",
       "      <td>politicsNews</td>\n",
       "      <td>December 20, 2017</td>\n",
       "    </tr>\n",
       "    <tr>\n",
       "      <th>freq</th>\n",
       "      <td>14</td>\n",
       "      <td>8</td>\n",
       "      <td>11272</td>\n",
       "      <td>182</td>\n",
       "    </tr>\n",
       "  </tbody>\n",
       "</table>\n",
       "</div>"
      ],
      "text/plain": [
       "                                                    title  \\\n",
       "count                                               21417   \n",
       "unique                                              20826   \n",
       "top     Factbox: Trump fills top jobs for his administ...   \n",
       "freq                                                   14   \n",
       "\n",
       "                                                     text       subject  \\\n",
       "count                                               21417         21417   \n",
       "unique                                              21192             2   \n",
       "top     (Reuters) - Highlights for U.S. President Dona...  politicsNews   \n",
       "freq                                                    8         11272   \n",
       "\n",
       "                      date  \n",
       "count                21417  \n",
       "unique                 716  \n",
       "top     December 20, 2017   \n",
       "freq                   182  "
      ]
     },
     "execution_count": 4,
     "metadata": {},
     "output_type": "execute_result"
    }
   ],
   "source": [
    "true_df.describe()"
   ]
  },
  {
   "cell_type": "markdown",
   "id": "357617e1-aa4a-4eec-9698-8c9f52af8fde",
   "metadata": {},
   "source": [
    "### Cleaning text column\n",
    "It seems as if all texts start with \"{city} (reuters) - \" which I want removed.\n",
    "\n",
    "A model will be affected by the fact that every true piece of news contains this prefix, while the fake ones don't.\n",
    "\n",
    "Removing that before going further with inspection of datasets."
   ]
  },
  {
   "cell_type": "code",
   "execution_count": 5,
   "id": "11477642-9114-4ce8-9361-6e619fe01a21",
   "metadata": {},
   "outputs": [],
   "source": [
    "# Function for removing problematic prefix, if there is one\n",
    "def remove_prefix(string):\n",
    "    split = string.split(\"-\", 1)\n",
    "    if \"(Reuters)\" in string and len(split) > 1: \n",
    "        return split[1]\n",
    "    return string\n",
    "true_df['text'] = true_df.text.apply(lambda x: remove_prefix(x))"
   ]
  },
  {
   "cell_type": "code",
   "execution_count": 6,
   "id": "e4d64883-9542-4d63-9474-4da2dd4db092",
   "metadata": {},
   "outputs": [
    {
     "data": {
      "text/html": [
       "<div>\n",
       "<style scoped>\n",
       "    .dataframe tbody tr th:only-of-type {\n",
       "        vertical-align: middle;\n",
       "    }\n",
       "\n",
       "    .dataframe tbody tr th {\n",
       "        vertical-align: top;\n",
       "    }\n",
       "\n",
       "    .dataframe thead th {\n",
       "        text-align: right;\n",
       "    }\n",
       "</style>\n",
       "<table border=\"1\" class=\"dataframe\">\n",
       "  <thead>\n",
       "    <tr style=\"text-align: right;\">\n",
       "      <th></th>\n",
       "      <th>title</th>\n",
       "      <th>text</th>\n",
       "      <th>subject</th>\n",
       "      <th>date</th>\n",
       "    </tr>\n",
       "  </thead>\n",
       "  <tbody>\n",
       "    <tr>\n",
       "      <th>0</th>\n",
       "      <td>As U.S. budget fight looms, Republicans flip t...</td>\n",
       "      <td>The head of a conservative Republican faction...</td>\n",
       "      <td>politicsNews</td>\n",
       "      <td>December 31, 2017</td>\n",
       "    </tr>\n",
       "    <tr>\n",
       "      <th>1</th>\n",
       "      <td>U.S. military to accept transgender recruits o...</td>\n",
       "      <td>Transgender people will be allowed for the fi...</td>\n",
       "      <td>politicsNews</td>\n",
       "      <td>December 29, 2017</td>\n",
       "    </tr>\n",
       "    <tr>\n",
       "      <th>2</th>\n",
       "      <td>Senior U.S. Republican senator: 'Let Mr. Muell...</td>\n",
       "      <td>The special counsel investigation of links be...</td>\n",
       "      <td>politicsNews</td>\n",
       "      <td>December 31, 2017</td>\n",
       "    </tr>\n",
       "    <tr>\n",
       "      <th>3</th>\n",
       "      <td>FBI Russia probe helped by Australian diplomat...</td>\n",
       "      <td>Trump campaign adviser George Papadopoulos to...</td>\n",
       "      <td>politicsNews</td>\n",
       "      <td>December 30, 2017</td>\n",
       "    </tr>\n",
       "    <tr>\n",
       "      <th>4</th>\n",
       "      <td>Trump wants Postal Service to charge 'much mor...</td>\n",
       "      <td>President Donald Trump called on the U.S. Pos...</td>\n",
       "      <td>politicsNews</td>\n",
       "      <td>December 29, 2017</td>\n",
       "    </tr>\n",
       "  </tbody>\n",
       "</table>\n",
       "</div>"
      ],
      "text/plain": [
       "                                               title  \\\n",
       "0  As U.S. budget fight looms, Republicans flip t...   \n",
       "1  U.S. military to accept transgender recruits o...   \n",
       "2  Senior U.S. Republican senator: 'Let Mr. Muell...   \n",
       "3  FBI Russia probe helped by Australian diplomat...   \n",
       "4  Trump wants Postal Service to charge 'much mor...   \n",
       "\n",
       "                                                text       subject  \\\n",
       "0   The head of a conservative Republican faction...  politicsNews   \n",
       "1   Transgender people will be allowed for the fi...  politicsNews   \n",
       "2   The special counsel investigation of links be...  politicsNews   \n",
       "3   Trump campaign adviser George Papadopoulos to...  politicsNews   \n",
       "4   President Donald Trump called on the U.S. Pos...  politicsNews   \n",
       "\n",
       "                 date  \n",
       "0  December 31, 2017   \n",
       "1  December 29, 2017   \n",
       "2  December 31, 2017   \n",
       "3  December 30, 2017   \n",
       "4  December 29, 2017   "
      ]
     },
     "execution_count": 6,
     "metadata": {},
     "output_type": "execute_result"
    }
   ],
   "source": [
    "true_df.head(5)"
   ]
  },
  {
   "cell_type": "code",
   "execution_count": 7,
   "id": "a2edce06-c966-4e65-a6ec-20537c831a05",
   "metadata": {},
   "outputs": [
    {
     "data": {
      "text/html": [
       "<div>\n",
       "<style scoped>\n",
       "    .dataframe tbody tr th:only-of-type {\n",
       "        vertical-align: middle;\n",
       "    }\n",
       "\n",
       "    .dataframe tbody tr th {\n",
       "        vertical-align: top;\n",
       "    }\n",
       "\n",
       "    .dataframe thead th {\n",
       "        text-align: right;\n",
       "    }\n",
       "</style>\n",
       "<table border=\"1\" class=\"dataframe\">\n",
       "  <thead>\n",
       "    <tr style=\"text-align: right;\">\n",
       "      <th></th>\n",
       "      <th>title</th>\n",
       "      <th>text</th>\n",
       "      <th>subject</th>\n",
       "      <th>date</th>\n",
       "    </tr>\n",
       "  </thead>\n",
       "  <tbody>\n",
       "    <tr>\n",
       "      <th>0</th>\n",
       "      <td>Donald Trump Sends Out Embarrassing New Year’...</td>\n",
       "      <td>Donald Trump just couldn t wish all Americans ...</td>\n",
       "      <td>News</td>\n",
       "      <td>December 31, 2017</td>\n",
       "    </tr>\n",
       "    <tr>\n",
       "      <th>1</th>\n",
       "      <td>Drunk Bragging Trump Staffer Started Russian ...</td>\n",
       "      <td>House Intelligence Committee Chairman Devin Nu...</td>\n",
       "      <td>News</td>\n",
       "      <td>December 31, 2017</td>\n",
       "    </tr>\n",
       "    <tr>\n",
       "      <th>2</th>\n",
       "      <td>Sheriff David Clarke Becomes An Internet Joke...</td>\n",
       "      <td>On Friday, it was revealed that former Milwauk...</td>\n",
       "      <td>News</td>\n",
       "      <td>December 30, 2017</td>\n",
       "    </tr>\n",
       "    <tr>\n",
       "      <th>3</th>\n",
       "      <td>Trump Is So Obsessed He Even Has Obama’s Name...</td>\n",
       "      <td>On Christmas day, Donald Trump announced that ...</td>\n",
       "      <td>News</td>\n",
       "      <td>December 29, 2017</td>\n",
       "    </tr>\n",
       "    <tr>\n",
       "      <th>4</th>\n",
       "      <td>Pope Francis Just Called Out Donald Trump Dur...</td>\n",
       "      <td>Pope Francis used his annual Christmas Day mes...</td>\n",
       "      <td>News</td>\n",
       "      <td>December 25, 2017</td>\n",
       "    </tr>\n",
       "  </tbody>\n",
       "</table>\n",
       "</div>"
      ],
      "text/plain": [
       "                                               title  \\\n",
       "0   Donald Trump Sends Out Embarrassing New Year’...   \n",
       "1   Drunk Bragging Trump Staffer Started Russian ...   \n",
       "2   Sheriff David Clarke Becomes An Internet Joke...   \n",
       "3   Trump Is So Obsessed He Even Has Obama’s Name...   \n",
       "4   Pope Francis Just Called Out Donald Trump Dur...   \n",
       "\n",
       "                                                text subject  \\\n",
       "0  Donald Trump just couldn t wish all Americans ...    News   \n",
       "1  House Intelligence Committee Chairman Devin Nu...    News   \n",
       "2  On Friday, it was revealed that former Milwauk...    News   \n",
       "3  On Christmas day, Donald Trump announced that ...    News   \n",
       "4  Pope Francis used his annual Christmas Day mes...    News   \n",
       "\n",
       "                date  \n",
       "0  December 31, 2017  \n",
       "1  December 31, 2017  \n",
       "2  December 30, 2017  \n",
       "3  December 29, 2017  \n",
       "4  December 25, 2017  "
      ]
     },
     "execution_count": 7,
     "metadata": {},
     "output_type": "execute_result"
    }
   ],
   "source": [
    "fake_df.head()"
   ]
  },
  {
   "cell_type": "code",
   "execution_count": 8,
   "id": "a60dc5a2-3556-4183-a764-5ee1b7f5cf48",
   "metadata": {},
   "outputs": [
    {
     "data": {
      "text/html": [
       "<div>\n",
       "<style scoped>\n",
       "    .dataframe tbody tr th:only-of-type {\n",
       "        vertical-align: middle;\n",
       "    }\n",
       "\n",
       "    .dataframe tbody tr th {\n",
       "        vertical-align: top;\n",
       "    }\n",
       "\n",
       "    .dataframe thead th {\n",
       "        text-align: right;\n",
       "    }\n",
       "</style>\n",
       "<table border=\"1\" class=\"dataframe\">\n",
       "  <thead>\n",
       "    <tr style=\"text-align: right;\">\n",
       "      <th></th>\n",
       "      <th>title</th>\n",
       "      <th>text</th>\n",
       "      <th>subject</th>\n",
       "      <th>date</th>\n",
       "    </tr>\n",
       "  </thead>\n",
       "  <tbody>\n",
       "    <tr>\n",
       "      <th>count</th>\n",
       "      <td>23481</td>\n",
       "      <td>23481</td>\n",
       "      <td>23481</td>\n",
       "      <td>23481</td>\n",
       "    </tr>\n",
       "    <tr>\n",
       "      <th>unique</th>\n",
       "      <td>17903</td>\n",
       "      <td>17455</td>\n",
       "      <td>6</td>\n",
       "      <td>1681</td>\n",
       "    </tr>\n",
       "    <tr>\n",
       "      <th>top</th>\n",
       "      <td>MEDIA IGNORES Time That Bill Clinton FIRED His...</td>\n",
       "      <td></td>\n",
       "      <td>News</td>\n",
       "      <td>May 10, 2017</td>\n",
       "    </tr>\n",
       "    <tr>\n",
       "      <th>freq</th>\n",
       "      <td>6</td>\n",
       "      <td>626</td>\n",
       "      <td>9050</td>\n",
       "      <td>46</td>\n",
       "    </tr>\n",
       "  </tbody>\n",
       "</table>\n",
       "</div>"
      ],
      "text/plain": [
       "                                                    title   text subject  \\\n",
       "count                                               23481  23481   23481   \n",
       "unique                                              17903  17455       6   \n",
       "top     MEDIA IGNORES Time That Bill Clinton FIRED His...           News   \n",
       "freq                                                    6    626    9050   \n",
       "\n",
       "                date  \n",
       "count          23481  \n",
       "unique          1681  \n",
       "top     May 10, 2017  \n",
       "freq              46  "
      ]
     },
     "execution_count": 8,
     "metadata": {},
     "output_type": "execute_result"
    }
   ],
   "source": [
    "fake_df.describe()"
   ]
  },
  {
   "cell_type": "code",
   "execution_count": 9,
   "id": "70212960-e1c9-4fab-b36c-9c86e572d82c",
   "metadata": {},
   "outputs": [
    {
     "name": "stdout",
     "output_type": "stream",
     "text": [
      "True news subjects: ['politicsNews' 'worldnews']\n",
      "Fake news subjects: ['News' 'politics' 'Government News' 'left-news' 'US_News' 'Middle-east']\n"
     ]
    }
   ],
   "source": [
    "print(f'True news subjects: {true_df.subject.unique()}')\n",
    "print(f'Fake news subjects: {fake_df.subject.unique()}')"
   ]
  },
  {
   "cell_type": "markdown",
   "id": "a4aeb120-3113-4728-9e5a-a340d14e6574",
   "metadata": {},
   "source": [
    "The unique subjects values are different for the different datasets, meaning that e.g. all articles labeled 'politics' are fake and 'politicNews' as a subject automatically means true."
   ]
  },
  {
   "cell_type": "code",
   "execution_count": 10,
   "id": "371068c0-75d3-4d0a-bb40-f08507957c49",
   "metadata": {},
   "outputs": [],
   "source": [
    "true_df.drop(columns=['subject', 'date'], inplace=True)\n",
    "fake_df.drop(columns=['subject', 'date'], inplace=True)"
   ]
  },
  {
   "cell_type": "markdown",
   "id": "c40b683f-06f0-4ad0-9efb-2457ecb41884",
   "metadata": {},
   "source": [
    "Labeling the dataframes and checking columns before merging dataframes:"
   ]
  },
  {
   "cell_type": "code",
   "execution_count": 11,
   "id": "6457815e-1936-4f93-8e2d-1b06f6ae7c6d",
   "metadata": {},
   "outputs": [],
   "source": [
    "true_df['label'] = True\n",
    "fake_df['label'] = False"
   ]
  },
  {
   "cell_type": "markdown",
   "id": "303cf515-8af1-4bb1-95fa-5f9c5b1ebe11",
   "metadata": {},
   "source": [
    "No null (i.e. NaN/missing) values, ok.\n",
    "\n",
    "Column names match without typos etc. ok.\n",
    "\n",
    "Both were previously quite populated with duplicates, so these will also be removed"
   ]
  },
  {
   "cell_type": "code",
   "execution_count": 12,
   "id": "ac65838e-1a4f-4f22-aa63-e9aa5376cce0",
   "metadata": {},
   "outputs": [],
   "source": [
    "df = pd.concat([true_df, fake_df], ignore_index=True).drop_duplicates()"
   ]
  },
  {
   "cell_type": "markdown",
   "id": "d6a0cd84-706b-4792-876e-80cd804893f9",
   "metadata": {},
   "source": [
    "## Implementation of ML\n",
    "\n",
    "### *Idea*\n",
    "\n",
    " - Using *Bowl of Words (BoW)* and word frequency methods on the titles to classify articles as True or Fake.\n",
    " - Retrieving data from the structure of the text of the article such as average word length etc.\n",
    "\n",
    "This way the project will remain computationally cheaper than using *NLP* methods combined with *ML* on the entire article.\n",
    "An implementation such as this one also keeps the feature-to-datasize ratio acceptable, with a fairly large dataset of 40,000 instances."
   ]
  },
  {
   "cell_type": "markdown",
   "id": "a9f4eff0-1928-4f5d-bf0e-3fac5d293800",
   "metadata": {},
   "source": [
    "## Tokenization and ML preperation"
   ]
  },
  {
   "cell_type": "markdown",
   "id": "545ea1ca-bec3-4f8d-9ca9-1fb1f221db29",
   "metadata": {},
   "source": [
    "### Methods for the title and text\n",
    "This section covers the preparation of features before implementation of **feature selection** and **machine learning.**\n",
    "#### *Both:*\n",
    "- Word tokenization\n",
    "- Removing non-alphabetical characters\n",
    "- Removing stop words, i.e. \"filler words\"\n",
    "#### *Title:*\n",
    "- Word stemming\n",
    "- Creating a word-frequency dictionary\n",
    "#### *Text:*\n",
    "- Retrieving statistics on length (word, sentence and text length).\n",
    "- Retrieving pos-tag statistics, i.e. how many subjectives, adjectives and verbs were used per instance."
   ]
  },
  {
   "cell_type": "markdown",
   "id": "e41b2cf5-ec2d-42ef-a705-771409a72314",
   "metadata": {},
   "source": [
    "### **Title feature extraction**"
   ]
  },
  {
   "cell_type": "code",
   "execution_count": 13,
   "id": "06e359b1-a920-445d-a902-d032fdbeba1b",
   "metadata": {},
   "outputs": [],
   "source": [
    "#Tokenizing & lowering\n",
    "df['title'] = df['title'].apply(lambda title: nltk.word_tokenize(title.lower()))\n",
    "df['text_word'] = df['text'].apply(lambda text: nltk.word_tokenize(text.lower()))"
   ]
  },
  {
   "cell_type": "code",
   "execution_count": 14,
   "id": "031295b3-26ef-4f76-9638-25aeb83c7686",
   "metadata": {},
   "outputs": [],
   "source": [
    "# Removing non-alphabethical words, such as websites\n",
    "df['text_word'] = df['text_word'].apply(lambda text: list(filter(lambda word: word.isalpha(), text)))\n",
    "df['title'] = df['title'].apply(lambda title: list(filter(lambda word: word.isalpha(), title)))"
   ]
  },
  {
   "cell_type": "markdown",
   "id": "3da0c9c4-064f-4b58-b55c-6d04844c92f0",
   "metadata": {},
   "source": [
    "*Stop word dictionary*"
   ]
  },
  {
   "cell_type": "code",
   "execution_count": 15,
   "id": "30df1db2-9954-4b26-a3d1-2795a205f89a",
   "metadata": {},
   "outputs": [
    {
     "name": "stdout",
     "output_type": "stream",
     "text": [
      "['i', 'me', 'my', 'myself', 'we', 'our', 'ours', 'ourselves', 'you', \"you're\", \"you've\", \"you'll\", \"you'd\", 'your', 'yours', 'yourself', 'yourselves', 'he', 'him', 'his', 'himself', 'she', \"she's\", 'her', 'hers', 'herself', 'it', \"it's\", 'its', 'itself', 'they', 'them', 'their', 'theirs', 'themselves', 'what', 'which', 'who', 'whom', 'this', 'that', \"that'll\", 'these', 'those', 'am', 'is', 'are', 'was', 'were', 'be', 'been', 'being', 'have', 'has', 'had', 'having', 'do', 'does', 'did', 'doing', 'a', 'an', 'the', 'and', 'but', 'if', 'or', 'because', 'as', 'until', 'while', 'of', 'at', 'by', 'for', 'with', 'about', 'against', 'between', 'into', 'through', 'during', 'before', 'after', 'above', 'below', 'to', 'from', 'up', 'down', 'in', 'out', 'on', 'off', 'over', 'under', 'again', 'further', 'then', 'once', 'here', 'there', 'when', 'where', 'why', 'how', 'all', 'any', 'both', 'each', 'few', 'more', 'most', 'other', 'some', 'such', 'no', 'nor', 'not', 'only', 'own', 'same', 'so', 'than', 'too', 'very', 's', 't', 'can', 'will', 'just', 'don', \"don't\", 'should', \"should've\", 'now', 'd', 'll', 'm', 'o', 're', 've', 'y', 'ain', 'aren', \"aren't\", 'couldn', \"couldn't\", 'didn', \"didn't\", 'doesn', \"doesn't\", 'hadn', \"hadn't\", 'hasn', \"hasn't\", 'haven', \"haven't\", 'isn', \"isn't\", 'ma', 'mightn', \"mightn't\", 'mustn', \"mustn't\", 'needn', \"needn't\", 'shan', \"shan't\", 'shouldn', \"shouldn't\", 'wasn', \"wasn't\", 'weren', \"weren't\", 'won', \"won't\", 'wouldn', \"wouldn't\"]\n"
     ]
    }
   ],
   "source": [
    "fill_words = stopwords.words('english')\n",
    "# The stopwords of the predifined dictionary\n",
    "print(fill_words)"
   ]
  },
  {
   "cell_type": "code",
   "execution_count": 16,
   "id": "b969573b-b62d-4a58-bdf5-5cbde7283537",
   "metadata": {},
   "outputs": [],
   "source": [
    "# Removing the stop words\n",
    "df['title'] = df.title.apply(lambda title: list(filter(lambda word: word not in fill_words, title)))"
   ]
  },
  {
   "cell_type": "code",
   "execution_count": 17,
   "id": "e087f188-726b-4e83-a18b-4889ed5622d2",
   "metadata": {},
   "outputs": [],
   "source": [
    "df['text_word'] = df.text_word.apply(lambda text: list(filter(lambda word: word not in fill_words, text)))"
   ]
  },
  {
   "cell_type": "code",
   "execution_count": 18,
   "id": "2e139a86-e085-4dce-8223-707e5115bafd",
   "metadata": {},
   "outputs": [],
   "source": [
    "stemmer = SnowballStemmer('english')"
   ]
  },
  {
   "cell_type": "code",
   "execution_count": 19,
   "id": "fe2bfde8-3ab6-4ccb-a90c-cde767faedf4",
   "metadata": {},
   "outputs": [],
   "source": [
    "df['title'] = df['title'].apply(lambda title: [stemmer.stem(word) for word in title])"
   ]
  },
  {
   "cell_type": "code",
   "execution_count": 20,
   "id": "c6d68988-ad77-4e29-8f65-aaf1ac3bc318",
   "metadata": {},
   "outputs": [],
   "source": [
    "df['word_frequencies'] = df['title'].apply(lambda text: nltk.probability.FreqDist(text))"
   ]
  },
  {
   "cell_type": "markdown",
   "id": "4511be35-dbf7-4bc1-a39f-fb1f4e457d86",
   "metadata": {},
   "source": [
    "### *Example*\n",
    "A title turned into a frequency dictionary"
   ]
  },
  {
   "cell_type": "code",
   "execution_count": 21,
   "id": "51b46f98-07e8-4473-b523-0d2ba8c49d75",
   "metadata": {},
   "outputs": [
    {
     "data": {
      "text/plain": [
       "['watch',\n",
       " 'racist',\n",
       " 'republican',\n",
       " 'get',\n",
       " 'hand',\n",
       " 'claim',\n",
       " 'trump',\n",
       " 'campaign',\n",
       " 'racist']"
      ]
     },
     "execution_count": 21,
     "metadata": {},
     "output_type": "execute_result"
    }
   ],
   "source": [
    "df.title[25000]"
   ]
  },
  {
   "cell_type": "code",
   "execution_count": 22,
   "id": "d83aea4e-946a-477c-9c60-def12da961ca",
   "metadata": {},
   "outputs": [
    {
     "data": {
      "text/plain": [
       "FreqDist({'racist': 2, 'watch': 1, 'republican': 1, 'get': 1, 'hand': 1, 'claim': 1, 'trump': 1, 'campaign': 1})"
      ]
     },
     "execution_count": 22,
     "metadata": {},
     "output_type": "execute_result"
    }
   ],
   "source": [
    "df['word_frequencies'][25000]"
   ]
  },
  {
   "cell_type": "markdown",
   "id": "b9c210fa-7b2c-4e59-a29d-5952dff3198a",
   "metadata": {},
   "source": [
    "### **Text feature extraction**\n",
    "\n",
    "Adding avg. word, sentence and text length.\n"
   ]
  },
  {
   "cell_type": "code",
   "execution_count": 23,
   "id": "0e9345ad-18f9-4cfa-bdc8-d9641dc82b40",
   "metadata": {},
   "outputs": [],
   "source": [
    "# Lowering and tokenizing\n",
    "df['text_sentence'] = df['text'].apply(lambda text: nltk.sent_tokenize(text.lower()))"
   ]
  },
  {
   "cell_type": "code",
   "execution_count": 24,
   "id": "81ca3172-e235-4a8c-844a-e840551167eb",
   "metadata": {},
   "outputs": [],
   "source": [
    "# Adding new columns\n",
    "df['avg_word_length'] = df.text_word.apply(lambda text: sum(map(len, text))/(1+len(text)))\n",
    "df['avg_sentence_length'] = df.text_sentence.apply(lambda text: sum(map(len, text))/(1+len(text)))\n",
    "df['text_length'] = df.text.apply(lambda text: len(text))"
   ]
  },
  {
   "cell_type": "code",
   "execution_count": 25,
   "id": "4789613a-e58d-44db-811e-58b422b9610c",
   "metadata": {},
   "outputs": [
    {
     "data": {
      "text/html": [
       "<div>\n",
       "<style scoped>\n",
       "    .dataframe tbody tr th:only-of-type {\n",
       "        vertical-align: middle;\n",
       "    }\n",
       "\n",
       "    .dataframe tbody tr th {\n",
       "        vertical-align: top;\n",
       "    }\n",
       "\n",
       "    .dataframe thead th {\n",
       "        text-align: right;\n",
       "    }\n",
       "</style>\n",
       "<table border=\"1\" class=\"dataframe\">\n",
       "  <thead>\n",
       "    <tr style=\"text-align: right;\">\n",
       "      <th></th>\n",
       "      <th>avg_word_length</th>\n",
       "      <th>avg_sentence_length</th>\n",
       "      <th>text_length</th>\n",
       "    </tr>\n",
       "  </thead>\n",
       "  <tbody>\n",
       "    <tr>\n",
       "      <th>count</th>\n",
       "      <td>39105.000000</td>\n",
       "      <td>39105.000000</td>\n",
       "      <td>39105.000000</td>\n",
       "    </tr>\n",
       "    <tr>\n",
       "      <th>mean</th>\n",
       "      <td>6.305612</td>\n",
       "      <td>155.194702</td>\n",
       "      <td>2416.499322</td>\n",
       "    </tr>\n",
       "    <tr>\n",
       "      <th>std</th>\n",
       "      <td>0.803979</td>\n",
       "      <td>65.237940</td>\n",
       "      <td>1942.972344</td>\n",
       "    </tr>\n",
       "    <tr>\n",
       "      <th>min</th>\n",
       "      <td>0.000000</td>\n",
       "      <td>0.000000</td>\n",
       "      <td>1.000000</td>\n",
       "    </tr>\n",
       "    <tr>\n",
       "      <th>25%</th>\n",
       "      <td>6.144330</td>\n",
       "      <td>125.937500</td>\n",
       "      <td>1256.000000</td>\n",
       "    </tr>\n",
       "    <tr>\n",
       "      <th>50%</th>\n",
       "      <td>6.402778</td>\n",
       "      <td>149.600000</td>\n",
       "      <td>2201.000000</td>\n",
       "    </tr>\n",
       "    <tr>\n",
       "      <th>75%</th>\n",
       "      <td>6.637755</td>\n",
       "      <td>175.285714</td>\n",
       "      <td>3072.000000</td>\n",
       "    </tr>\n",
       "    <tr>\n",
       "      <th>max</th>\n",
       "      <td>9.363636</td>\n",
       "      <td>4736.200000</td>\n",
       "      <td>51794.000000</td>\n",
       "    </tr>\n",
       "  </tbody>\n",
       "</table>\n",
       "</div>"
      ],
      "text/plain": [
       "       avg_word_length  avg_sentence_length   text_length\n",
       "count     39105.000000         39105.000000  39105.000000\n",
       "mean          6.305612           155.194702   2416.499322\n",
       "std           0.803979            65.237940   1942.972344\n",
       "min           0.000000             0.000000      1.000000\n",
       "25%           6.144330           125.937500   1256.000000\n",
       "50%           6.402778           149.600000   2201.000000\n",
       "75%           6.637755           175.285714   3072.000000\n",
       "max           9.363636          4736.200000  51794.000000"
      ]
     },
     "execution_count": 25,
     "metadata": {},
     "output_type": "execute_result"
    }
   ],
   "source": [
    "df.describe()"
   ]
  },
  {
   "cell_type": "code",
   "execution_count": 26,
   "id": "524865d8-a286-4a9b-aa70-671bb190d251",
   "metadata": {},
   "outputs": [],
   "source": [
    "df = df[df['text_length'] > 500]\n",
    "df = df[df['avg_word_length'] > 0]"
   ]
  },
  {
   "cell_type": "code",
   "execution_count": 27,
   "id": "d3b150f9-4271-4f04-bdd5-8a3cc6c7b4e2",
   "metadata": {},
   "outputs": [
    {
     "data": {
      "text/html": [
       "<div>\n",
       "<style scoped>\n",
       "    .dataframe tbody tr th:only-of-type {\n",
       "        vertical-align: middle;\n",
       "    }\n",
       "\n",
       "    .dataframe tbody tr th {\n",
       "        vertical-align: top;\n",
       "    }\n",
       "\n",
       "    .dataframe thead th {\n",
       "        text-align: right;\n",
       "    }\n",
       "</style>\n",
       "<table border=\"1\" class=\"dataframe\">\n",
       "  <thead>\n",
       "    <tr style=\"text-align: right;\">\n",
       "      <th></th>\n",
       "      <th>avg_word_length</th>\n",
       "      <th>avg_sentence_length</th>\n",
       "      <th>text_length</th>\n",
       "    </tr>\n",
       "  </thead>\n",
       "  <tbody>\n",
       "    <tr>\n",
       "      <th>count</th>\n",
       "      <td>35029.000000</td>\n",
       "      <td>35029.000000</td>\n",
       "      <td>35029.000000</td>\n",
       "    </tr>\n",
       "    <tr>\n",
       "      <th>mean</th>\n",
       "      <td>6.410720</td>\n",
       "      <td>162.949212</td>\n",
       "      <td>2663.550373</td>\n",
       "    </tr>\n",
       "    <tr>\n",
       "      <th>std</th>\n",
       "      <td>0.352430</td>\n",
       "      <td>62.454846</td>\n",
       "      <td>1904.154424</td>\n",
       "    </tr>\n",
       "    <tr>\n",
       "      <th>min</th>\n",
       "      <td>3.888748</td>\n",
       "      <td>36.875000</td>\n",
       "      <td>501.000000</td>\n",
       "    </tr>\n",
       "    <tr>\n",
       "      <th>25%</th>\n",
       "      <td>6.180851</td>\n",
       "      <td>132.545455</td>\n",
       "      <td>1651.000000</td>\n",
       "    </tr>\n",
       "    <tr>\n",
       "      <th>50%</th>\n",
       "      <td>6.421348</td>\n",
       "      <td>153.750000</td>\n",
       "      <td>2356.000000</td>\n",
       "    </tr>\n",
       "    <tr>\n",
       "      <th>75%</th>\n",
       "      <td>6.645485</td>\n",
       "      <td>179.000000</td>\n",
       "      <td>3226.000000</td>\n",
       "    </tr>\n",
       "    <tr>\n",
       "      <th>max</th>\n",
       "      <td>9.069444</td>\n",
       "      <td>4736.200000</td>\n",
       "      <td>51794.000000</td>\n",
       "    </tr>\n",
       "  </tbody>\n",
       "</table>\n",
       "</div>"
      ],
      "text/plain": [
       "       avg_word_length  avg_sentence_length   text_length\n",
       "count     35029.000000         35029.000000  35029.000000\n",
       "mean          6.410720           162.949212   2663.550373\n",
       "std           0.352430            62.454846   1904.154424\n",
       "min           3.888748            36.875000    501.000000\n",
       "25%           6.180851           132.545455   1651.000000\n",
       "50%           6.421348           153.750000   2356.000000\n",
       "75%           6.645485           179.000000   3226.000000\n",
       "max           9.069444          4736.200000  51794.000000"
      ]
     },
     "execution_count": 27,
     "metadata": {},
     "output_type": "execute_result"
    }
   ],
   "source": [
    "df.describe()"
   ]
  },
  {
   "cell_type": "code",
   "execution_count": 28,
   "id": "86e02d74-1afc-453e-8d2b-1616d1fe9a9d",
   "metadata": {},
   "outputs": [
    {
     "data": {
      "image/png": "[encoded data removed]",
      "text/plain": [
       "<Figure size 640x480 with 1 Axes>"
      ]
     },
     "metadata": {},
     "output_type": "display_data"
    },
    {
     "data": {
      "text/plain": [
       "<Figure size 640x480 with 0 Axes>"
      ]
     },
     "metadata": {},
     "output_type": "display_data"
    }
   ],
   "source": [
    "plt.bar([\"True\", \"Fake\"], [df[df['label'] == True].avg_word_length.mean(), df[df['label'] == False].avg_word_length.mean()])\n",
    "plt.title(\"Avg. Word length\")\n",
    "plt.show()\n",
    "plt.clf()"
   ]
  },
  {
   "cell_type": "code",
   "execution_count": 29,
   "id": "53361533-4b34-4417-9af7-f3e6d22682f2",
   "metadata": {},
   "outputs": [
    {
     "data": {
      "image/png": "[encoded data removed]",
      "text/plain": [
       "<Figure size 640x480 with 1 Axes>"
      ]
     },
     "metadata": {},
     "output_type": "display_data"
    },
    {
     "data": {
      "text/plain": [
       "<Figure size 640x480 with 0 Axes>"
      ]
     },
     "metadata": {},
     "output_type": "display_data"
    }
   ],
   "source": [
    "plt.bar([\"True\", \"Fake\"], [df[df['label'] == True].avg_sentence_length.mean(), df[df['label'] == False].avg_sentence_length.mean()])\n",
    "plt.title(\"Avg. Sentence length\")\n",
    "plt.show()\n",
    "plt.clf()"
   ]
  },
  {
   "cell_type": "markdown",
   "id": "983c1a89-9bc3-4e69-bb85-70c74077435a",
   "metadata": {},
   "source": [
    "##### **POS - tagging**\n",
    "*A brief explanation of the process*\n",
    "- Step 1: labeling each word as some type using nltk library\n",
    "- Step 2: Creating a frequency for each type of word, e.g. adjective (JJ for short)\n",
    "- Step 3: Retrieve verb, noun and adjective count for each instance in the dataset\n",
    "- Step 4: Retrieving relative ratio of each type of word.\n",
    "##### *Example with instance 0:*"
   ]
  },
  {
   "cell_type": "code",
   "execution_count": 30,
   "id": "dbd5bba1-90f5-481b-bb41-8f44e6b9596c",
   "metadata": {},
   "outputs": [
    {
     "name": "stdout",
     "output_type": "stream",
     "text": [
      "[('head', 'NN'), ('conservative', 'JJ'), ('republican', 'JJ'), ('faction', 'NN'), ('congress', 'NN'), ('voted', 'VBD'), ('month', 'NN'), ('huge', 'JJ'), ('expansion', 'NN'), ('national', 'JJ')]\n"
     ]
    }
   ],
   "source": [
    "# Step 1: Creating a pos_tag list of tuples\n",
    "pos_list = nltk.pos_tag(df['text_word'][0])\n",
    "# Printing first ten\n",
    "print(pos_list[0:10])"
   ]
  },
  {
   "cell_type": "code",
   "execution_count": 31,
   "id": "e857c08c-f1a9-406f-934b-36e8b0ff9980",
   "metadata": {},
   "outputs": [
    {
     "name": "stdout",
     "output_type": "stream",
     "text": [
      "{'NN': 161, 'JJ': 73, 'VBD': 24, 'NNS': 59, 'VBN': 13, 'VBG': 14, 'IN': 3, 'VBP': 26, 'RB': 19, 'VBZ': 9, 'VB': 8, 'MD': 5, 'NNP': 1, 'CD': 6, 'JJS': 2, 'RP': 2}\n"
     ]
    }
   ],
   "source": [
    "# Step 2: Creating a Frequency dictionary\n",
    "freq_dict = nltk.FreqDist(tag for (word, tag) in pos_list)\n",
    "print(dict(freq_dict))"
   ]
  },
  {
   "cell_type": "code",
   "execution_count": 32,
   "id": "f95974ff-0cb8-4af2-b1e0-64d69aa6a0cf",
   "metadata": {},
   "outputs": [
    {
     "data": {
      "text/plain": [
       "73"
      ]
     },
     "execution_count": 32,
     "metadata": {},
     "output_type": "execute_result"
    }
   ],
   "source": [
    "# Step 3: Retrieving the type of word we want, for example adjective (JJ)\n",
    "freq_dict['JJ']"
   ]
  },
  {
   "cell_type": "code",
   "execution_count": 33,
   "id": "5f69b833-92ff-411d-a1e2-17550ab4eaa3",
   "metadata": {},
   "outputs": [
    {
     "data": {
      "text/plain": [
       "73"
      ]
     },
     "execution_count": 33,
     "metadata": {},
     "output_type": "execute_result"
    }
   ],
   "source": [
    "# Everything written on one line looks like this\n",
    "nltk.FreqDist(tag for (word, tag) in nltk.pos_tag(df['text_word'][0]))['JJ']"
   ]
  },
  {
   "cell_type": "code",
   "execution_count": 34,
   "id": "ec017be7-e615-4327-b844-f448ef0fd677",
   "metadata": {},
   "outputs": [
    {
     "name": "stdout",
     "output_type": "stream",
     "text": [
      "Percentage of NN: 37.88235294117647%\n",
      "Percentage of JJ: 17.176470588235293%\n",
      "Percentage of VBD: 5.647058823529412%\n",
      "Percentage of NNS: 13.882352941176471%\n",
      "Percentage of VBN: 3.058823529411765%\n",
      "Percentage of VBG: 3.294117647058824%\n",
      "Percentage of IN: 0.7058823529411765%\n",
      "Percentage of VBP: 6.11764705882353%\n",
      "Percentage of RB: 4.470588235294118%\n",
      "Percentage of VBZ: 2.1176470588235294%\n",
      "Percentage of VB: 1.8823529411764703%\n",
      "Percentage of MD: 1.1764705882352942%\n",
      "Percentage of NNP: 0.2352941176470588%\n",
      "Percentage of CD: 1.411764705882353%\n",
      "Percentage of JJS: 0.4705882352941176%\n",
      "Percentage of RP: 0.4705882352941176%\n"
     ]
    }
   ],
   "source": [
    "# Here's how the different percentages look\n",
    "for i in freq_dict.keys():\n",
    "    print(f\"Percentage of {i}: {100*(freq_dict[i]/sum(freq_dict.values()))}%\")"
   ]
  },
  {
   "cell_type": "markdown",
   "id": "0390e549-4f22-4b80-a10d-eb1bd9609f9d",
   "metadata": {},
   "source": [
    "***Implementation***"
   ]
  },
  {
   "cell_type": "code",
   "execution_count": 35,
   "id": "e14cb4ac-4a77-4ea3-a276-71c4204d19bd",
   "metadata": {},
   "outputs": [],
   "source": [
    "df['counts'] = df.text_word.apply(lambda text: nltk.FreqDist(tag for (word, tag) in nltk.pos_tag(text)))"
   ]
  },
  {
   "cell_type": "markdown",
   "id": "c08e6182-2255-4603-85d6-b4718e933f81",
   "metadata": {},
   "source": [
    "Getting all tags:"
   ]
  },
  {
   "cell_type": "code",
   "execution_count": 36,
   "id": "350c7c75-4e01-40f4-b70e-a1b2da31375e",
   "metadata": {},
   "outputs": [],
   "source": [
    "all_tags = set(tag for freq_dist in df['counts'] for tag in freq_dist.keys())"
   ]
  },
  {
   "cell_type": "markdown",
   "id": "706f7c41-d540-448b-8848-4f335c5f3263",
   "metadata": {},
   "source": [
    "Getting the ratio of each:"
   ]
  },
  {
   "cell_type": "code",
   "execution_count": 37,
   "id": "545ec336-33bf-4748-a762-fbe23515a66c",
   "metadata": {},
   "outputs": [],
   "source": [
    "for i in all_tags:\n",
    "    df[i + \"_ratio\"] = df.apply(lambda row: row['counts'].get(i, 0) / sum(row['counts'].values()), axis=1)"
   ]
  },
  {
   "cell_type": "code",
   "execution_count": 38,
   "id": "24707f3e-1c54-406b-b36d-6332225b0ab6",
   "metadata": {},
   "outputs": [],
   "source": [
    "df.drop(columns = ['counts'], inplace=True)"
   ]
  },
  {
   "cell_type": "code",
   "execution_count": 39,
   "id": "ce41b61d-fc42-45ec-8c02-3e1acb580e06",
   "metadata": {},
   "outputs": [
    {
     "data": {
      "text/html": [
       "<div>\n",
       "<style scoped>\n",
       "    .dataframe tbody tr th:only-of-type {\n",
       "        vertical-align: middle;\n",
       "    }\n",
       "\n",
       "    .dataframe tbody tr th {\n",
       "        vertical-align: top;\n",
       "    }\n",
       "\n",
       "    .dataframe thead th {\n",
       "        text-align: right;\n",
       "    }\n",
       "</style>\n",
       "<table border=\"1\" class=\"dataframe\">\n",
       "  <thead>\n",
       "    <tr style=\"text-align: right;\">\n",
       "      <th></th>\n",
       "      <th>title</th>\n",
       "      <th>text</th>\n",
       "      <th>label</th>\n",
       "      <th>text_word</th>\n",
       "      <th>word_frequencies</th>\n",
       "      <th>text_sentence</th>\n",
       "      <th>avg_word_length</th>\n",
       "      <th>avg_sentence_length</th>\n",
       "      <th>text_length</th>\n",
       "      <th>VBN_ratio</th>\n",
       "      <th>...</th>\n",
       "      <th>PRP_ratio</th>\n",
       "      <th>CC_ratio</th>\n",
       "      <th>POS_ratio</th>\n",
       "      <th>$_ratio</th>\n",
       "      <th>RB_ratio</th>\n",
       "      <th>SYM_ratio</th>\n",
       "      <th>TO_ratio</th>\n",
       "      <th>WRB_ratio</th>\n",
       "      <th>NNS_ratio</th>\n",
       "      <th>VBZ_ratio</th>\n",
       "    </tr>\n",
       "  </thead>\n",
       "  <tbody>\n",
       "    <tr>\n",
       "      <th>0</th>\n",
       "      <td>[budget, fight, loom, republican, flip, fiscal...</td>\n",
       "      <td>The head of a conservative Republican faction...</td>\n",
       "      <td>True</td>\n",
       "      <td>[head, conservative, republican, faction, cong...</td>\n",
       "      <td>{'budget': 1, 'fight': 1, 'loom': 1, 'republic...</td>\n",
       "      <td>[ the head of a conservative republican factio...</td>\n",
       "      <td>6.610329</td>\n",
       "      <td>164.607143</td>\n",
       "      <td>4637</td>\n",
       "      <td>0.030588</td>\n",
       "      <td>...</td>\n",
       "      <td>0.000000</td>\n",
       "      <td>0.0</td>\n",
       "      <td>0.0</td>\n",
       "      <td>0.0</td>\n",
       "      <td>0.044706</td>\n",
       "      <td>0.0</td>\n",
       "      <td>0.0</td>\n",
       "      <td>0.0</td>\n",
       "      <td>0.138824</td>\n",
       "      <td>0.021176</td>\n",
       "    </tr>\n",
       "    <tr>\n",
       "      <th>1</th>\n",
       "      <td>[militari, accept, transgend, recruit, monday,...</td>\n",
       "      <td>Transgender people will be allowed for the fi...</td>\n",
       "      <td>True</td>\n",
       "      <td>[transgender, people, allowed, first, time, en...</td>\n",
       "      <td>{'militari': 1, 'accept': 1, 'transgend': 1, '...</td>\n",
       "      <td>[ transgender people will be allowed for the f...</td>\n",
       "      <td>7.118980</td>\n",
       "      <td>212.473684</td>\n",
       "      <td>4055</td>\n",
       "      <td>0.036932</td>\n",
       "      <td>...</td>\n",
       "      <td>0.000000</td>\n",
       "      <td>0.0</td>\n",
       "      <td>0.0</td>\n",
       "      <td>0.0</td>\n",
       "      <td>0.017045</td>\n",
       "      <td>0.0</td>\n",
       "      <td>0.0</td>\n",
       "      <td>0.0</td>\n",
       "      <td>0.142045</td>\n",
       "      <td>0.008523</td>\n",
       "    </tr>\n",
       "    <tr>\n",
       "      <th>2</th>\n",
       "      <td>[senior, republican, senat, mueller, job]</td>\n",
       "      <td>The special counsel investigation of links be...</td>\n",
       "      <td>True</td>\n",
       "      <td>[special, counsel, investigation, links, russi...</td>\n",
       "      <td>{'senior': 1, 'republican': 1, 'senat': 1, 'mu...</td>\n",
       "      <td>[ the special counsel investigation of links b...</td>\n",
       "      <td>6.537255</td>\n",
       "      <td>152.555556</td>\n",
       "      <td>2767</td>\n",
       "      <td>0.031496</td>\n",
       "      <td>...</td>\n",
       "      <td>0.003937</td>\n",
       "      <td>0.0</td>\n",
       "      <td>0.0</td>\n",
       "      <td>0.0</td>\n",
       "      <td>0.023622</td>\n",
       "      <td>0.0</td>\n",
       "      <td>0.0</td>\n",
       "      <td>0.0</td>\n",
       "      <td>0.086614</td>\n",
       "      <td>0.015748</td>\n",
       "    </tr>\n",
       "    <tr>\n",
       "      <th>3</th>\n",
       "      <td>[fbi, russia, probe, help, australian, diploma...</td>\n",
       "      <td>Trump campaign adviser George Papadopoulos to...</td>\n",
       "      <td>True</td>\n",
       "      <td>[trump, campaign, adviser, george, papadopoulo...</td>\n",
       "      <td>{'fbi': 1, 'russia': 1, 'probe': 1, 'help': 1,...</td>\n",
       "      <td>[ trump campaign adviser george papadopoulos t...</td>\n",
       "      <td>6.812785</td>\n",
       "      <td>151.500000</td>\n",
       "      <td>2439</td>\n",
       "      <td>0.009174</td>\n",
       "      <td>...</td>\n",
       "      <td>0.000000</td>\n",
       "      <td>0.0</td>\n",
       "      <td>0.0</td>\n",
       "      <td>0.0</td>\n",
       "      <td>0.036697</td>\n",
       "      <td>0.0</td>\n",
       "      <td>0.0</td>\n",
       "      <td>0.0</td>\n",
       "      <td>0.119266</td>\n",
       "      <td>0.000000</td>\n",
       "    </tr>\n",
       "    <tr>\n",
       "      <th>4</th>\n",
       "      <td>[trump, want, postal, servic, charg, amazon, s...</td>\n",
       "      <td>President Donald Trump called on the U.S. Pos...</td>\n",
       "      <td>True</td>\n",
       "      <td>[president, donald, trump, called, postal, ser...</td>\n",
       "      <td>{'trump': 1, 'want': 1, 'postal': 1, 'servic':...</td>\n",
       "      <td>[ president donald trump called on the u.s. po...</td>\n",
       "      <td>6.461864</td>\n",
       "      <td>142.444444</td>\n",
       "      <td>5174</td>\n",
       "      <td>0.019108</td>\n",
       "      <td>...</td>\n",
       "      <td>0.000000</td>\n",
       "      <td>0.0</td>\n",
       "      <td>0.0</td>\n",
       "      <td>0.0</td>\n",
       "      <td>0.044586</td>\n",
       "      <td>0.0</td>\n",
       "      <td>0.0</td>\n",
       "      <td>0.0</td>\n",
       "      <td>0.138004</td>\n",
       "      <td>0.012739</td>\n",
       "    </tr>\n",
       "  </tbody>\n",
       "</table>\n",
       "<p>5 rows × 47 columns</p>\n",
       "</div>"
      ],
      "text/plain": [
       "                                               title  \\\n",
       "0  [budget, fight, loom, republican, flip, fiscal...   \n",
       "1  [militari, accept, transgend, recruit, monday,...   \n",
       "2          [senior, republican, senat, mueller, job]   \n",
       "3  [fbi, russia, probe, help, australian, diploma...   \n",
       "4  [trump, want, postal, servic, charg, amazon, s...   \n",
       "\n",
       "                                                text  label  \\\n",
       "0   The head of a conservative Republican faction...   True   \n",
       "1   Transgender people will be allowed for the fi...   True   \n",
       "2   The special counsel investigation of links be...   True   \n",
       "3   Trump campaign adviser George Papadopoulos to...   True   \n",
       "4   President Donald Trump called on the U.S. Pos...   True   \n",
       "\n",
       "                                           text_word  \\\n",
       "0  [head, conservative, republican, faction, cong...   \n",
       "1  [transgender, people, allowed, first, time, en...   \n",
       "2  [special, counsel, investigation, links, russi...   \n",
       "3  [trump, campaign, adviser, george, papadopoulo...   \n",
       "4  [president, donald, trump, called, postal, ser...   \n",
       "\n",
       "                                    word_frequencies  \\\n",
       "0  {'budget': 1, 'fight': 1, 'loom': 1, 'republic...   \n",
       "1  {'militari': 1, 'accept': 1, 'transgend': 1, '...   \n",
       "2  {'senior': 1, 'republican': 1, 'senat': 1, 'mu...   \n",
       "3  {'fbi': 1, 'russia': 1, 'probe': 1, 'help': 1,...   \n",
       "4  {'trump': 1, 'want': 1, 'postal': 1, 'servic':...   \n",
       "\n",
       "                                       text_sentence  avg_word_length  \\\n",
       "0  [ the head of a conservative republican factio...         6.610329   \n",
       "1  [ transgender people will be allowed for the f...         7.118980   \n",
       "2  [ the special counsel investigation of links b...         6.537255   \n",
       "3  [ trump campaign adviser george papadopoulos t...         6.812785   \n",
       "4  [ president donald trump called on the u.s. po...         6.461864   \n",
       "\n",
       "   avg_sentence_length  text_length  VBN_ratio  ...  PRP_ratio  CC_ratio  \\\n",
       "0           164.607143         4637   0.030588  ...   0.000000       0.0   \n",
       "1           212.473684         4055   0.036932  ...   0.000000       0.0   \n",
       "2           152.555556         2767   0.031496  ...   0.003937       0.0   \n",
       "3           151.500000         2439   0.009174  ...   0.000000       0.0   \n",
       "4           142.444444         5174   0.019108  ...   0.000000       0.0   \n",
       "\n",
       "   POS_ratio  $_ratio  RB_ratio  SYM_ratio  TO_ratio  WRB_ratio  NNS_ratio  \\\n",
       "0        0.0      0.0  0.044706        0.0       0.0        0.0   0.138824   \n",
       "1        0.0      0.0  0.017045        0.0       0.0        0.0   0.142045   \n",
       "2        0.0      0.0  0.023622        0.0       0.0        0.0   0.086614   \n",
       "3        0.0      0.0  0.036697        0.0       0.0        0.0   0.119266   \n",
       "4        0.0      0.0  0.044586        0.0       0.0        0.0   0.138004   \n",
       "\n",
       "   VBZ_ratio  \n",
       "0   0.021176  \n",
       "1   0.008523  \n",
       "2   0.015748  \n",
       "3   0.000000  \n",
       "4   0.012739  \n",
       "\n",
       "[5 rows x 47 columns]"
      ]
     },
     "execution_count": 39,
     "metadata": {},
     "output_type": "execute_result"
    }
   ],
   "source": [
    "df.head()"
   ]
  },
  {
   "cell_type": "code",
   "execution_count": 1,
   "id": "8c782663-a31d-4588-8c67-9b2cd26b185c",
   "metadata": {
    "scrolled": true
   },
   "outputs": [],
   "source": [
    "# This part was commented out when turning notebook into pdf to reduce the length of the document.\n",
    "# for i in all_tags:\n",
    "#     plt.bar([\"True\", \"Fake\"], [df[df['label'] == True][i+'_ratio'].mean(), df[df['label'] == False][i+'_ratio'].mean()], color = ['#228B22', 'r'])\n",
    "#     plt.title(i + \" Ratio\")\n",
    "#     plt.show()\n",
    "#     plt.clf()"
   ]
  },
  {
   "cell_type": "markdown",
   "id": "4f3fc54b-d40a-4997-ac67-06adfc67491b",
   "metadata": {},
   "source": [
    "## Model Training\n",
    "#### *Features:*\n",
    "***Bowl of word - model***\n",
    "- Turning the frequency of each word into a feature, by vectorizing.\n",
    "\n",
    "***Text structure - model***\n",
    "- Taking the POS-tagged ratios and text-statistics as features."
   ]
  },
  {
   "cell_type": "code",
   "execution_count": 41,
   "id": "07fdda4e-21f2-40ee-84d9-11c6ffe591a1",
   "metadata": {},
   "outputs": [],
   "source": [
    "vectorizer = DictVectorizer(sparse=False)"
   ]
  },
  {
   "cell_type": "code",
   "execution_count": 42,
   "id": "dbf9be82-ca39-4ad7-93d6-83e5d116e944",
   "metadata": {},
   "outputs": [],
   "source": [
    "title_X = vectorizer.fit_transform(df['word_frequencies'])"
   ]
  },
  {
   "cell_type": "code",
   "execution_count": 43,
   "id": "74d20a01-ff2f-4f1c-a237-f5adae831848",
   "metadata": {},
   "outputs": [],
   "source": [
    "text_X = df.drop(columns = ['title', 'text', 'text_word', 'text_sentence', 'word_frequencies', 'label'])"
   ]
  },
  {
   "cell_type": "markdown",
   "id": "3033d886-1cfc-4f41-adaf-205cb1011402",
   "metadata": {},
   "source": [
    "**Amount of words (features) in the BoW**"
   ]
  },
  {
   "cell_type": "code",
   "execution_count": 44,
   "id": "49068331-7b75-45aa-9a4b-7050bbdfb5d8",
   "metadata": {
    "scrolled": true
   },
   "outputs": [
    {
     "data": {
      "text/plain": [
       "12343"
      ]
     },
     "execution_count": 44,
     "metadata": {},
     "output_type": "execute_result"
    }
   ],
   "source": [
    "len(vectorizer.vocabulary_)"
   ]
  },
  {
   "cell_type": "markdown",
   "id": "d3675295-48d6-49ef-a5b1-5d294e9a03c8",
   "metadata": {},
   "source": [
    "#### Combining features"
   ]
  },
  {
   "cell_type": "code",
   "execution_count": 45,
   "id": "fcab568d-bd6e-4176-9988-3623b3284651",
   "metadata": {},
   "outputs": [],
   "source": [
    "title_X_df = pd.DataFrame(title_X) # Making the title_X ready for merge"
   ]
  },
  {
   "cell_type": "code",
   "execution_count": 46,
   "id": "2aabefa1-c013-4d9f-a3a9-f61dbcea48bb",
   "metadata": {},
   "outputs": [],
   "source": [
    "# title_X_df = title_X_df.loc[:, (title_X_df.max() > 1)]"
   ]
  },
  {
   "cell_type": "code",
   "execution_count": 47,
   "id": "621fd786-4241-4266-bf8d-b24feb9ce9c3",
   "metadata": {},
   "outputs": [],
   "source": [
    "X = title_X_df.join(text_X).fillna(0)"
   ]
  },
  {
   "cell_type": "code",
   "execution_count": 48,
   "id": "b6435dd3-232a-4eac-836e-9e4f5585a646",
   "metadata": {},
   "outputs": [],
   "source": [
    "X.columns = X.columns.astype(str)"
   ]
  },
  {
   "cell_type": "code",
   "execution_count": 49,
   "id": "acc8df2f-c17c-41a2-bc0d-7e1b7f9ba46c",
   "metadata": {},
   "outputs": [
    {
     "data": {
      "text/html": [
       "<div>\n",
       "<style scoped>\n",
       "    .dataframe tbody tr th:only-of-type {\n",
       "        vertical-align: middle;\n",
       "    }\n",
       "\n",
       "    .dataframe tbody tr th {\n",
       "        vertical-align: top;\n",
       "    }\n",
       "\n",
       "    .dataframe thead th {\n",
       "        text-align: right;\n",
       "    }\n",
       "</style>\n",
       "<table border=\"1\" class=\"dataframe\">\n",
       "  <thead>\n",
       "    <tr style=\"text-align: right;\">\n",
       "      <th></th>\n",
       "      <th>0</th>\n",
       "      <th>1</th>\n",
       "      <th>2</th>\n",
       "      <th>3</th>\n",
       "      <th>4</th>\n",
       "      <th>5</th>\n",
       "      <th>6</th>\n",
       "      <th>7</th>\n",
       "      <th>8</th>\n",
       "      <th>9</th>\n",
       "      <th>...</th>\n",
       "      <th>PRP_ratio</th>\n",
       "      <th>CC_ratio</th>\n",
       "      <th>POS_ratio</th>\n",
       "      <th>$_ratio</th>\n",
       "      <th>RB_ratio</th>\n",
       "      <th>SYM_ratio</th>\n",
       "      <th>TO_ratio</th>\n",
       "      <th>WRB_ratio</th>\n",
       "      <th>NNS_ratio</th>\n",
       "      <th>VBZ_ratio</th>\n",
       "    </tr>\n",
       "  </thead>\n",
       "  <tbody>\n",
       "    <tr>\n",
       "      <th>0</th>\n",
       "      <td>0.0</td>\n",
       "      <td>0.0</td>\n",
       "      <td>0.0</td>\n",
       "      <td>0.0</td>\n",
       "      <td>0.0</td>\n",
       "      <td>0.0</td>\n",
       "      <td>0.0</td>\n",
       "      <td>0.0</td>\n",
       "      <td>0.0</td>\n",
       "      <td>0.0</td>\n",
       "      <td>...</td>\n",
       "      <td>0.000000</td>\n",
       "      <td>0.0</td>\n",
       "      <td>0.0</td>\n",
       "      <td>0.0</td>\n",
       "      <td>0.044706</td>\n",
       "      <td>0.0</td>\n",
       "      <td>0.0</td>\n",
       "      <td>0.0</td>\n",
       "      <td>0.138824</td>\n",
       "      <td>0.021176</td>\n",
       "    </tr>\n",
       "    <tr>\n",
       "      <th>1</th>\n",
       "      <td>0.0</td>\n",
       "      <td>0.0</td>\n",
       "      <td>0.0</td>\n",
       "      <td>0.0</td>\n",
       "      <td>0.0</td>\n",
       "      <td>0.0</td>\n",
       "      <td>0.0</td>\n",
       "      <td>0.0</td>\n",
       "      <td>0.0</td>\n",
       "      <td>0.0</td>\n",
       "      <td>...</td>\n",
       "      <td>0.000000</td>\n",
       "      <td>0.0</td>\n",
       "      <td>0.0</td>\n",
       "      <td>0.0</td>\n",
       "      <td>0.017045</td>\n",
       "      <td>0.0</td>\n",
       "      <td>0.0</td>\n",
       "      <td>0.0</td>\n",
       "      <td>0.142045</td>\n",
       "      <td>0.008523</td>\n",
       "    </tr>\n",
       "    <tr>\n",
       "      <th>2</th>\n",
       "      <td>0.0</td>\n",
       "      <td>0.0</td>\n",
       "      <td>0.0</td>\n",
       "      <td>0.0</td>\n",
       "      <td>0.0</td>\n",
       "      <td>0.0</td>\n",
       "      <td>0.0</td>\n",
       "      <td>0.0</td>\n",
       "      <td>0.0</td>\n",
       "      <td>0.0</td>\n",
       "      <td>...</td>\n",
       "      <td>0.003937</td>\n",
       "      <td>0.0</td>\n",
       "      <td>0.0</td>\n",
       "      <td>0.0</td>\n",
       "      <td>0.023622</td>\n",
       "      <td>0.0</td>\n",
       "      <td>0.0</td>\n",
       "      <td>0.0</td>\n",
       "      <td>0.086614</td>\n",
       "      <td>0.015748</td>\n",
       "    </tr>\n",
       "    <tr>\n",
       "      <th>3</th>\n",
       "      <td>0.0</td>\n",
       "      <td>0.0</td>\n",
       "      <td>0.0</td>\n",
       "      <td>0.0</td>\n",
       "      <td>0.0</td>\n",
       "      <td>0.0</td>\n",
       "      <td>0.0</td>\n",
       "      <td>0.0</td>\n",
       "      <td>0.0</td>\n",
       "      <td>0.0</td>\n",
       "      <td>...</td>\n",
       "      <td>0.000000</td>\n",
       "      <td>0.0</td>\n",
       "      <td>0.0</td>\n",
       "      <td>0.0</td>\n",
       "      <td>0.036697</td>\n",
       "      <td>0.0</td>\n",
       "      <td>0.0</td>\n",
       "      <td>0.0</td>\n",
       "      <td>0.119266</td>\n",
       "      <td>0.000000</td>\n",
       "    </tr>\n",
       "    <tr>\n",
       "      <th>4</th>\n",
       "      <td>0.0</td>\n",
       "      <td>0.0</td>\n",
       "      <td>0.0</td>\n",
       "      <td>0.0</td>\n",
       "      <td>0.0</td>\n",
       "      <td>0.0</td>\n",
       "      <td>0.0</td>\n",
       "      <td>0.0</td>\n",
       "      <td>0.0</td>\n",
       "      <td>0.0</td>\n",
       "      <td>...</td>\n",
       "      <td>0.000000</td>\n",
       "      <td>0.0</td>\n",
       "      <td>0.0</td>\n",
       "      <td>0.0</td>\n",
       "      <td>0.044586</td>\n",
       "      <td>0.0</td>\n",
       "      <td>0.0</td>\n",
       "      <td>0.0</td>\n",
       "      <td>0.138004</td>\n",
       "      <td>0.012739</td>\n",
       "    </tr>\n",
       "  </tbody>\n",
       "</table>\n",
       "<p>5 rows × 12384 columns</p>\n",
       "</div>"
      ],
      "text/plain": [
       "     0    1    2    3    4    5    6    7    8    9  ...  PRP_ratio  CC_ratio  \\\n",
       "0  0.0  0.0  0.0  0.0  0.0  0.0  0.0  0.0  0.0  0.0  ...   0.000000       0.0   \n",
       "1  0.0  0.0  0.0  0.0  0.0  0.0  0.0  0.0  0.0  0.0  ...   0.000000       0.0   \n",
       "2  0.0  0.0  0.0  0.0  0.0  0.0  0.0  0.0  0.0  0.0  ...   0.003937       0.0   \n",
       "3  0.0  0.0  0.0  0.0  0.0  0.0  0.0  0.0  0.0  0.0  ...   0.000000       0.0   \n",
       "4  0.0  0.0  0.0  0.0  0.0  0.0  0.0  0.0  0.0  0.0  ...   0.000000       0.0   \n",
       "\n",
       "   POS_ratio  $_ratio  RB_ratio  SYM_ratio  TO_ratio  WRB_ratio  NNS_ratio  \\\n",
       "0        0.0      0.0  0.044706        0.0       0.0        0.0   0.138824   \n",
       "1        0.0      0.0  0.017045        0.0       0.0        0.0   0.142045   \n",
       "2        0.0      0.0  0.023622        0.0       0.0        0.0   0.086614   \n",
       "3        0.0      0.0  0.036697        0.0       0.0        0.0   0.119266   \n",
       "4        0.0      0.0  0.044586        0.0       0.0        0.0   0.138004   \n",
       "\n",
       "   VBZ_ratio  \n",
       "0   0.021176  \n",
       "1   0.008523  \n",
       "2   0.015748  \n",
       "3   0.000000  \n",
       "4   0.012739  \n",
       "\n",
       "[5 rows x 12384 columns]"
      ]
     },
     "execution_count": 49,
     "metadata": {},
     "output_type": "execute_result"
    }
   ],
   "source": [
    "X.head()"
   ]
  },
  {
   "cell_type": "code",
   "execution_count": 50,
   "id": "4aa7f274-1eca-4633-ab09-65fac8635cee",
   "metadata": {},
   "outputs": [
    {
     "data": {
      "text/html": [
       "<div>\n",
       "<style scoped>\n",
       "    .dataframe tbody tr th:only-of-type {\n",
       "        vertical-align: middle;\n",
       "    }\n",
       "\n",
       "    .dataframe tbody tr th {\n",
       "        vertical-align: top;\n",
       "    }\n",
       "\n",
       "    .dataframe thead th {\n",
       "        text-align: right;\n",
       "    }\n",
       "</style>\n",
       "<table border=\"1\" class=\"dataframe\">\n",
       "  <thead>\n",
       "    <tr style=\"text-align: right;\">\n",
       "      <th></th>\n",
       "      <th>0</th>\n",
       "      <th>1</th>\n",
       "      <th>2</th>\n",
       "      <th>3</th>\n",
       "      <th>4</th>\n",
       "      <th>5</th>\n",
       "      <th>6</th>\n",
       "      <th>7</th>\n",
       "      <th>8</th>\n",
       "      <th>9</th>\n",
       "      <th>...</th>\n",
       "      <th>PRP_ratio</th>\n",
       "      <th>CC_ratio</th>\n",
       "      <th>POS_ratio</th>\n",
       "      <th>$_ratio</th>\n",
       "      <th>RB_ratio</th>\n",
       "      <th>SYM_ratio</th>\n",
       "      <th>TO_ratio</th>\n",
       "      <th>WRB_ratio</th>\n",
       "      <th>NNS_ratio</th>\n",
       "      <th>VBZ_ratio</th>\n",
       "    </tr>\n",
       "  </thead>\n",
       "  <tbody>\n",
       "    <tr>\n",
       "      <th>count</th>\n",
       "      <td>35029.000000</td>\n",
       "      <td>35029.000000</td>\n",
       "      <td>35029.000000</td>\n",
       "      <td>35029.000000</td>\n",
       "      <td>35029.000000</td>\n",
       "      <td>35029.000000</td>\n",
       "      <td>35029.000000</td>\n",
       "      <td>35029.000000</td>\n",
       "      <td>35029.000000</td>\n",
       "      <td>35029.000000</td>\n",
       "      <td>...</td>\n",
       "      <td>35029.000000</td>\n",
       "      <td>35029.000000</td>\n",
       "      <td>35029.000000</td>\n",
       "      <td>3.502900e+04</td>\n",
       "      <td>35029.000000</td>\n",
       "      <td>3.502900e+04</td>\n",
       "      <td>35029.000000</td>\n",
       "      <td>35029.000000</td>\n",
       "      <td>35029.000000</td>\n",
       "      <td>35029.000000</td>\n",
       "    </tr>\n",
       "    <tr>\n",
       "      <th>mean</th>\n",
       "      <td>0.000029</td>\n",
       "      <td>0.000057</td>\n",
       "      <td>0.000029</td>\n",
       "      <td>0.000029</td>\n",
       "      <td>0.000371</td>\n",
       "      <td>0.001085</td>\n",
       "      <td>0.000400</td>\n",
       "      <td>0.000057</td>\n",
       "      <td>0.000856</td>\n",
       "      <td>0.000029</td>\n",
       "      <td>...</td>\n",
       "      <td>0.001025</td>\n",
       "      <td>0.000420</td>\n",
       "      <td>0.000012</td>\n",
       "      <td>2.660420e-07</td>\n",
       "      <td>0.042011</td>\n",
       "      <td>4.443919e-07</td>\n",
       "      <td>0.000082</td>\n",
       "      <td>0.000078</td>\n",
       "      <td>0.107146</td>\n",
       "      <td>0.013440</td>\n",
       "    </tr>\n",
       "    <tr>\n",
       "      <th>std</th>\n",
       "      <td>0.005343</td>\n",
       "      <td>0.007556</td>\n",
       "      <td>0.005343</td>\n",
       "      <td>0.005343</td>\n",
       "      <td>0.019261</td>\n",
       "      <td>0.032919</td>\n",
       "      <td>0.021369</td>\n",
       "      <td>0.007556</td>\n",
       "      <td>0.029253</td>\n",
       "      <td>0.005343</td>\n",
       "      <td>...</td>\n",
       "      <td>0.003044</td>\n",
       "      <td>0.001605</td>\n",
       "      <td>0.000260</td>\n",
       "      <td>3.833561e-05</td>\n",
       "      <td>0.025957</td>\n",
       "      <td>4.129128e-05</td>\n",
       "      <td>0.001092</td>\n",
       "      <td>0.000700</td>\n",
       "      <td>0.051727</td>\n",
       "      <td>0.011740</td>\n",
       "    </tr>\n",
       "    <tr>\n",
       "      <th>min</th>\n",
       "      <td>0.000000</td>\n",
       "      <td>0.000000</td>\n",
       "      <td>0.000000</td>\n",
       "      <td>0.000000</td>\n",
       "      <td>0.000000</td>\n",
       "      <td>0.000000</td>\n",
       "      <td>0.000000</td>\n",
       "      <td>0.000000</td>\n",
       "      <td>0.000000</td>\n",
       "      <td>0.000000</td>\n",
       "      <td>...</td>\n",
       "      <td>0.000000</td>\n",
       "      <td>0.000000</td>\n",
       "      <td>0.000000</td>\n",
       "      <td>0.000000e+00</td>\n",
       "      <td>0.000000</td>\n",
       "      <td>0.000000e+00</td>\n",
       "      <td>0.000000</td>\n",
       "      <td>0.000000</td>\n",
       "      <td>0.000000</td>\n",
       "      <td>0.000000</td>\n",
       "    </tr>\n",
       "    <tr>\n",
       "      <th>25%</th>\n",
       "      <td>0.000000</td>\n",
       "      <td>0.000000</td>\n",
       "      <td>0.000000</td>\n",
       "      <td>0.000000</td>\n",
       "      <td>0.000000</td>\n",
       "      <td>0.000000</td>\n",
       "      <td>0.000000</td>\n",
       "      <td>0.000000</td>\n",
       "      <td>0.000000</td>\n",
       "      <td>0.000000</td>\n",
       "      <td>...</td>\n",
       "      <td>0.000000</td>\n",
       "      <td>0.000000</td>\n",
       "      <td>0.000000</td>\n",
       "      <td>0.000000e+00</td>\n",
       "      <td>0.025735</td>\n",
       "      <td>0.000000e+00</td>\n",
       "      <td>0.000000</td>\n",
       "      <td>0.000000</td>\n",
       "      <td>0.081633</td>\n",
       "      <td>0.004425</td>\n",
       "    </tr>\n",
       "    <tr>\n",
       "      <th>50%</th>\n",
       "      <td>0.000000</td>\n",
       "      <td>0.000000</td>\n",
       "      <td>0.000000</td>\n",
       "      <td>0.000000</td>\n",
       "      <td>0.000000</td>\n",
       "      <td>0.000000</td>\n",
       "      <td>0.000000</td>\n",
       "      <td>0.000000</td>\n",
       "      <td>0.000000</td>\n",
       "      <td>0.000000</td>\n",
       "      <td>...</td>\n",
       "      <td>0.000000</td>\n",
       "      <td>0.000000</td>\n",
       "      <td>0.000000</td>\n",
       "      <td>0.000000e+00</td>\n",
       "      <td>0.040865</td>\n",
       "      <td>0.000000e+00</td>\n",
       "      <td>0.000000</td>\n",
       "      <td>0.000000</td>\n",
       "      <td>0.111801</td>\n",
       "      <td>0.011945</td>\n",
       "    </tr>\n",
       "    <tr>\n",
       "      <th>75%</th>\n",
       "      <td>0.000000</td>\n",
       "      <td>0.000000</td>\n",
       "      <td>0.000000</td>\n",
       "      <td>0.000000</td>\n",
       "      <td>0.000000</td>\n",
       "      <td>0.000000</td>\n",
       "      <td>0.000000</td>\n",
       "      <td>0.000000</td>\n",
       "      <td>0.000000</td>\n",
       "      <td>0.000000</td>\n",
       "      <td>...</td>\n",
       "      <td>0.000000</td>\n",
       "      <td>0.000000</td>\n",
       "      <td>0.000000</td>\n",
       "      <td>0.000000e+00</td>\n",
       "      <td>0.057348</td>\n",
       "      <td>0.000000e+00</td>\n",
       "      <td>0.000000</td>\n",
       "      <td>0.000000</td>\n",
       "      <td>0.140741</td>\n",
       "      <td>0.019737</td>\n",
       "    </tr>\n",
       "    <tr>\n",
       "      <th>max</th>\n",
       "      <td>1.000000</td>\n",
       "      <td>1.000000</td>\n",
       "      <td>1.000000</td>\n",
       "      <td>1.000000</td>\n",
       "      <td>1.000000</td>\n",
       "      <td>1.000000</td>\n",
       "      <td>2.000000</td>\n",
       "      <td>1.000000</td>\n",
       "      <td>1.000000</td>\n",
       "      <td>1.000000</td>\n",
       "      <td>...</td>\n",
       "      <td>0.064000</td>\n",
       "      <td>0.031250</td>\n",
       "      <td>0.017857</td>\n",
       "      <td>6.666667e-03</td>\n",
       "      <td>0.206349</td>\n",
       "      <td>5.050505e-03</td>\n",
       "      <td>0.085366</td>\n",
       "      <td>0.020833</td>\n",
       "      <td>0.372093</td>\n",
       "      <td>0.125000</td>\n",
       "    </tr>\n",
       "  </tbody>\n",
       "</table>\n",
       "<p>8 rows × 12384 columns</p>\n",
       "</div>"
      ],
      "text/plain": [
       "                  0             1             2             3             4  \\\n",
       "count  35029.000000  35029.000000  35029.000000  35029.000000  35029.000000   \n",
       "mean       0.000029      0.000057      0.000029      0.000029      0.000371   \n",
       "std        0.005343      0.007556      0.005343      0.005343      0.019261   \n",
       "min        0.000000      0.000000      0.000000      0.000000      0.000000   \n",
       "25%        0.000000      0.000000      0.000000      0.000000      0.000000   \n",
       "50%        0.000000      0.000000      0.000000      0.000000      0.000000   \n",
       "75%        0.000000      0.000000      0.000000      0.000000      0.000000   \n",
       "max        1.000000      1.000000      1.000000      1.000000      1.000000   \n",
       "\n",
       "                  5             6             7             8             9  \\\n",
       "count  35029.000000  35029.000000  35029.000000  35029.000000  35029.000000   \n",
       "mean       0.001085      0.000400      0.000057      0.000856      0.000029   \n",
       "std        0.032919      0.021369      0.007556      0.029253      0.005343   \n",
       "min        0.000000      0.000000      0.000000      0.000000      0.000000   \n",
       "25%        0.000000      0.000000      0.000000      0.000000      0.000000   \n",
       "50%        0.000000      0.000000      0.000000      0.000000      0.000000   \n",
       "75%        0.000000      0.000000      0.000000      0.000000      0.000000   \n",
       "max        1.000000      2.000000      1.000000      1.000000      1.000000   \n",
       "\n",
       "       ...     PRP_ratio      CC_ratio     POS_ratio       $_ratio  \\\n",
       "count  ...  35029.000000  35029.000000  35029.000000  3.502900e+04   \n",
       "mean   ...      0.001025      0.000420      0.000012  2.660420e-07   \n",
       "std    ...      0.003044      0.001605      0.000260  3.833561e-05   \n",
       "min    ...      0.000000      0.000000      0.000000  0.000000e+00   \n",
       "25%    ...      0.000000      0.000000      0.000000  0.000000e+00   \n",
       "50%    ...      0.000000      0.000000      0.000000  0.000000e+00   \n",
       "75%    ...      0.000000      0.000000      0.000000  0.000000e+00   \n",
       "max    ...      0.064000      0.031250      0.017857  6.666667e-03   \n",
       "\n",
       "           RB_ratio     SYM_ratio      TO_ratio     WRB_ratio     NNS_ratio  \\\n",
       "count  35029.000000  3.502900e+04  35029.000000  35029.000000  35029.000000   \n",
       "mean       0.042011  4.443919e-07      0.000082      0.000078      0.107146   \n",
       "std        0.025957  4.129128e-05      0.001092      0.000700      0.051727   \n",
       "min        0.000000  0.000000e+00      0.000000      0.000000      0.000000   \n",
       "25%        0.025735  0.000000e+00      0.000000      0.000000      0.081633   \n",
       "50%        0.040865  0.000000e+00      0.000000      0.000000      0.111801   \n",
       "75%        0.057348  0.000000e+00      0.000000      0.000000      0.140741   \n",
       "max        0.206349  5.050505e-03      0.085366      0.020833      0.372093   \n",
       "\n",
       "          VBZ_ratio  \n",
       "count  35029.000000  \n",
       "mean       0.013440  \n",
       "std        0.011740  \n",
       "min        0.000000  \n",
       "25%        0.004425  \n",
       "50%        0.011945  \n",
       "75%        0.019737  \n",
       "max        0.125000  \n",
       "\n",
       "[8 rows x 12384 columns]"
      ]
     },
     "execution_count": 50,
     "metadata": {},
     "output_type": "execute_result"
    }
   ],
   "source": [
    "X.describe()"
   ]
  },
  {
   "cell_type": "markdown",
   "id": "49a6b90e-ab69-4989-a610-7acf4cd0f0df",
   "metadata": {},
   "source": [
    "#### Train - validation - test set splitting\n",
    "Using train_test_split"
   ]
  },
  {
   "cell_type": "code",
   "execution_count": 51,
   "id": "3207de5c-39c5-4aec-94a0-b6607fdf645e",
   "metadata": {},
   "outputs": [],
   "source": [
    "X_train, X_test, y_train, y_test = train_test_split(X, df.label, test_size=0.1, random_state=42)"
   ]
  },
  {
   "cell_type": "code",
   "execution_count": 52,
   "id": "477cbbcd-e1b2-401f-afcc-cda8890ad507",
   "metadata": {},
   "outputs": [],
   "source": [
    "X_train, X_val, y_train, y_val = train_test_split(X_train, y_train, test_size=0.2, random_state=42) # Which y one uses is irrelevant, since they are the same"
   ]
  },
  {
   "cell_type": "code",
   "execution_count": 53,
   "id": "ae9a0c07-f39d-4020-a644-503123d2696a",
   "metadata": {},
   "outputs": [
    {
     "name": "stdout",
     "output_type": "stream",
     "text": [
      "Number of features wanted: 2522\n"
     ]
    }
   ],
   "source": [
    "print(f\"Number of features wanted: {round(len(X_train)/10)}\")"
   ]
  },
  {
   "cell_type": "markdown",
   "id": "cb56da0a-8c13-4ad2-8377-760059714bdf",
   "metadata": {},
   "source": [
    "#### Conclusion before ML\n",
    "\n",
    "- The training set allows for an approximate maximum of 3000 features based on it's length\n",
    "- We can narrow this down using feature selection methods"
   ]
  },
  {
   "cell_type": "code",
   "execution_count": 54,
   "id": "519861ac-26f8-4060-9ed5-90cefe48e9ca",
   "metadata": {},
   "outputs": [],
   "source": [
    "# Function for printing model score\n",
    "\n",
    "def printModelScore(model, xtr, xte, ytr, yte):\n",
    "    print(f\"Model training score: {model.score(xtr, ytr)}\")\n",
    "    print(f\"Model testing score: {model.score(xte, yte)}\")"
   ]
  },
  {
   "cell_type": "markdown",
   "id": "9774b992-b019-4f3a-b920-e793522f7331",
   "metadata": {},
   "source": [
    "#### L1 models:\n",
    "\n",
    "To find out how the model reacts to the amount of features 3 models:\n",
    "* C=0.5, should zero out more than standard of 1\n",
    "* C=1\n",
    "* C=2 should zero out less, making room for more features"
   ]
  },
  {
   "cell_type": "code",
   "execution_count": 55,
   "id": "ab683924-b924-445f-b27a-b0945982e59f",
   "metadata": {},
   "outputs": [],
   "source": [
    "L1_lr_model0_5 = LogisticRegression(solver=\"liblinear\", penalty=\"l1\", C=0.5)"
   ]
  },
  {
   "cell_type": "code",
   "execution_count": 56,
   "id": "44e60a37-1c78-4133-91db-8cfe64b138a8",
   "metadata": {},
   "outputs": [],
   "source": [
    "L1_lr_model1 = LogisticRegression(solver=\"liblinear\", penalty=\"l1\", C=1)"
   ]
  },
  {
   "cell_type": "code",
   "execution_count": 57,
   "id": "233fdb72-da86-4e21-a250-ee85847fc508",
   "metadata": {},
   "outputs": [],
   "source": [
    "L1_lr_model2 = LogisticRegression(solver=\"liblinear\", penalty=\"l1\", C=2)"
   ]
  },
  {
   "cell_type": "markdown",
   "id": "3f517b1e-1f21-4d77-8774-4e46a6409c22",
   "metadata": {},
   "source": [
    "*Fitting the models*"
   ]
  },
  {
   "cell_type": "code",
   "execution_count": 58,
   "id": "37cee4a9-45e0-4774-8bb3-7f7c5031b78f",
   "metadata": {},
   "outputs": [
    {
     "data": {
      "text/html": [
       "<style>#sk-container-id-1 {color: black;}#sk-container-id-1 pre{padding: 0;}#sk-container-id-1 div.sk-toggleable {background-color: white;}#sk-container-id-1 label.sk-toggleable__label {cursor: pointer;display: block;width: 100%;margin-bottom: 0;padding: 0.3em;box-sizing: border-box;text-align: center;}#sk-container-id-1 label.sk-toggleable__label-arrow:before {content: \"▸\";float: left;margin-right: 0.25em;color: #696969;}#sk-container-id-1 label.sk-toggleable__label-arrow:hover:before {color: black;}#sk-container-id-1 div.sk-estimator:hover label.sk-toggleable__label-arrow:before {color: black;}#sk-container-id-1 div.sk-toggleable__content {max-height: 0;max-width: 0;overflow: hidden;text-align: left;background-color: #f0f8ff;}#sk-container-id-1 div.sk-toggleable__content pre {margin: 0.2em;color: black;border-radius: 0.25em;background-color: #f0f8ff;}#sk-container-id-1 input.sk-toggleable__control:checked~div.sk-toggleable__content {max-height: 200px;max-width: 100%;overflow: auto;}#sk-container-id-1 input.sk-toggleable__control:checked~label.sk-toggleable__label-arrow:before {content: \"▾\";}#sk-container-id-1 div.sk-estimator input.sk-toggleable__control:checked~label.sk-toggleable__label {background-color: #d4ebff;}#sk-container-id-1 div.sk-label input.sk-toggleable__control:checked~label.sk-toggleable__label {background-color: #d4ebff;}#sk-container-id-1 input.sk-hidden--visually {border: 0;clip: rect(1px 1px 1px 1px);clip: rect(1px, 1px, 1px, 1px);height: 1px;margin: -1px;overflow: hidden;padding: 0;position: absolute;width: 1px;}#sk-container-id-1 div.sk-estimator {font-family: monospace;background-color: #f0f8ff;border: 1px dotted black;border-radius: 0.25em;box-sizing: border-box;margin-bottom: 0.5em;}#sk-container-id-1 div.sk-estimator:hover {background-color: #d4ebff;}#sk-container-id-1 div.sk-parallel-item::after {content: \"\";width: 100%;border-bottom: 1px solid gray;flex-grow: 1;}#sk-container-id-1 div.sk-label:hover label.sk-toggleable__label {background-color: #d4ebff;}#sk-container-id-1 div.sk-serial::before {content: \"\";position: absolute;border-left: 1px solid gray;box-sizing: border-box;top: 0;bottom: 0;left: 50%;z-index: 0;}#sk-container-id-1 div.sk-serial {display: flex;flex-direction: column;align-items: center;background-color: white;padding-right: 0.2em;padding-left: 0.2em;position: relative;}#sk-container-id-1 div.sk-item {position: relative;z-index: 1;}#sk-container-id-1 div.sk-parallel {display: flex;align-items: stretch;justify-content: center;background-color: white;position: relative;}#sk-container-id-1 div.sk-item::before, #sk-container-id-1 div.sk-parallel-item::before {content: \"\";position: absolute;border-left: 1px solid gray;box-sizing: border-box;top: 0;bottom: 0;left: 50%;z-index: -1;}#sk-container-id-1 div.sk-parallel-item {display: flex;flex-direction: column;z-index: 1;position: relative;background-color: white;}#sk-container-id-1 div.sk-parallel-item:first-child::after {align-self: flex-end;width: 50%;}#sk-container-id-1 div.sk-parallel-item:last-child::after {align-self: flex-start;width: 50%;}#sk-container-id-1 div.sk-parallel-item:only-child::after {width: 0;}#sk-container-id-1 div.sk-dashed-wrapped {border: 1px dashed gray;margin: 0 0.4em 0.5em 0.4em;box-sizing: border-box;padding-bottom: 0.4em;background-color: white;}#sk-container-id-1 div.sk-label label {font-family: monospace;font-weight: bold;display: inline-block;line-height: 1.2em;}#sk-container-id-1 div.sk-label-container {text-align: center;}#sk-container-id-1 div.sk-container {/* jupyter's `normalize.less` sets `[hidden] { display: none; }` but bootstrap.min.css set `[hidden] { display: none !important; }` so we also need the `!important` here to be able to override the default hidden behavior on the sphinx rendered scikit-learn.org. See: https://github.com/scikit-learn/scikit-learn/issues/21755 */display: inline-block !important;position: relative;}#sk-container-id-1 div.sk-text-repr-fallback {display: none;}</style><div id=\"sk-container-id-1\" class=\"sk-top-container\"><div class=\"sk-text-repr-fallback\"><pre>LogisticRegression(C=0.5, penalty=&#x27;l1&#x27;, solver=&#x27;liblinear&#x27;)</pre><b>In a Jupyter environment, please rerun this cell to show the HTML representation or trust the notebook. <br />On GitHub, the HTML representation is unable to render, please try loading this page with nbviewer.org.</b></div><div class=\"sk-container\" hidden><div class=\"sk-item\"><div class=\"sk-estimator sk-toggleable\"><input class=\"sk-toggleable__control sk-hidden--visually\" id=\"sk-estimator-id-1\" type=\"checkbox\" checked><label for=\"sk-estimator-id-1\" class=\"sk-toggleable__label sk-toggleable__label-arrow\">LogisticRegression</label><div class=\"sk-toggleable__content\"><pre>LogisticRegression(C=0.5, penalty=&#x27;l1&#x27;, solver=&#x27;liblinear&#x27;)</pre></div></div></div></div></div>"
      ],
      "text/plain": [
       "LogisticRegression(C=0.5, penalty='l1', solver='liblinear')"
      ]
     },
     "execution_count": 58,
     "metadata": {},
     "output_type": "execute_result"
    }
   ],
   "source": [
    "L1_lr_model0_5.fit(X_train, y_train)"
   ]
  },
  {
   "cell_type": "code",
   "execution_count": 59,
   "id": "3cecfb1e-4d10-4b28-a513-c03884732da1",
   "metadata": {},
   "outputs": [
    {
     "data": {
      "text/html": [
       "<style>#sk-container-id-2 {color: black;}#sk-container-id-2 pre{padding: 0;}#sk-container-id-2 div.sk-toggleable {background-color: white;}#sk-container-id-2 label.sk-toggleable__label {cursor: pointer;display: block;width: 100%;margin-bottom: 0;padding: 0.3em;box-sizing: border-box;text-align: center;}#sk-container-id-2 label.sk-toggleable__label-arrow:before {content: \"▸\";float: left;margin-right: 0.25em;color: #696969;}#sk-container-id-2 label.sk-toggleable__label-arrow:hover:before {color: black;}#sk-container-id-2 div.sk-estimator:hover label.sk-toggleable__label-arrow:before {color: black;}#sk-container-id-2 div.sk-toggleable__content {max-height: 0;max-width: 0;overflow: hidden;text-align: left;background-color: #f0f8ff;}#sk-container-id-2 div.sk-toggleable__content pre {margin: 0.2em;color: black;border-radius: 0.25em;background-color: #f0f8ff;}#sk-container-id-2 input.sk-toggleable__control:checked~div.sk-toggleable__content {max-height: 200px;max-width: 100%;overflow: auto;}#sk-container-id-2 input.sk-toggleable__control:checked~label.sk-toggleable__label-arrow:before {content: \"▾\";}#sk-container-id-2 div.sk-estimator input.sk-toggleable__control:checked~label.sk-toggleable__label {background-color: #d4ebff;}#sk-container-id-2 div.sk-label input.sk-toggleable__control:checked~label.sk-toggleable__label {background-color: #d4ebff;}#sk-container-id-2 input.sk-hidden--visually {border: 0;clip: rect(1px 1px 1px 1px);clip: rect(1px, 1px, 1px, 1px);height: 1px;margin: -1px;overflow: hidden;padding: 0;position: absolute;width: 1px;}#sk-container-id-2 div.sk-estimator {font-family: monospace;background-color: #f0f8ff;border: 1px dotted black;border-radius: 0.25em;box-sizing: border-box;margin-bottom: 0.5em;}#sk-container-id-2 div.sk-estimator:hover {background-color: #d4ebff;}#sk-container-id-2 div.sk-parallel-item::after {content: \"\";width: 100%;border-bottom: 1px solid gray;flex-grow: 1;}#sk-container-id-2 div.sk-label:hover label.sk-toggleable__label {background-color: #d4ebff;}#sk-container-id-2 div.sk-serial::before {content: \"\";position: absolute;border-left: 1px solid gray;box-sizing: border-box;top: 0;bottom: 0;left: 50%;z-index: 0;}#sk-container-id-2 div.sk-serial {display: flex;flex-direction: column;align-items: center;background-color: white;padding-right: 0.2em;padding-left: 0.2em;position: relative;}#sk-container-id-2 div.sk-item {position: relative;z-index: 1;}#sk-container-id-2 div.sk-parallel {display: flex;align-items: stretch;justify-content: center;background-color: white;position: relative;}#sk-container-id-2 div.sk-item::before, #sk-container-id-2 div.sk-parallel-item::before {content: \"\";position: absolute;border-left: 1px solid gray;box-sizing: border-box;top: 0;bottom: 0;left: 50%;z-index: -1;}#sk-container-id-2 div.sk-parallel-item {display: flex;flex-direction: column;z-index: 1;position: relative;background-color: white;}#sk-container-id-2 div.sk-parallel-item:first-child::after {align-self: flex-end;width: 50%;}#sk-container-id-2 div.sk-parallel-item:last-child::after {align-self: flex-start;width: 50%;}#sk-container-id-2 div.sk-parallel-item:only-child::after {width: 0;}#sk-container-id-2 div.sk-dashed-wrapped {border: 1px dashed gray;margin: 0 0.4em 0.5em 0.4em;box-sizing: border-box;padding-bottom: 0.4em;background-color: white;}#sk-container-id-2 div.sk-label label {font-family: monospace;font-weight: bold;display: inline-block;line-height: 1.2em;}#sk-container-id-2 div.sk-label-container {text-align: center;}#sk-container-id-2 div.sk-container {/* jupyter's `normalize.less` sets `[hidden] { display: none; }` but bootstrap.min.css set `[hidden] { display: none !important; }` so we also need the `!important` here to be able to override the default hidden behavior on the sphinx rendered scikit-learn.org. See: https://github.com/scikit-learn/scikit-learn/issues/21755 */display: inline-block !important;position: relative;}#sk-container-id-2 div.sk-text-repr-fallback {display: none;}</style><div id=\"sk-container-id-2\" class=\"sk-top-container\"><div class=\"sk-text-repr-fallback\"><pre>LogisticRegression(C=1, penalty=&#x27;l1&#x27;, solver=&#x27;liblinear&#x27;)</pre><b>In a Jupyter environment, please rerun this cell to show the HTML representation or trust the notebook. <br />On GitHub, the HTML representation is unable to render, please try loading this page with nbviewer.org.</b></div><div class=\"sk-container\" hidden><div class=\"sk-item\"><div class=\"sk-estimator sk-toggleable\"><input class=\"sk-toggleable__control sk-hidden--visually\" id=\"sk-estimator-id-2\" type=\"checkbox\" checked><label for=\"sk-estimator-id-2\" class=\"sk-toggleable__label sk-toggleable__label-arrow\">LogisticRegression</label><div class=\"sk-toggleable__content\"><pre>LogisticRegression(C=1, penalty=&#x27;l1&#x27;, solver=&#x27;liblinear&#x27;)</pre></div></div></div></div></div>"
      ],
      "text/plain": [
       "LogisticRegression(C=1, penalty='l1', solver='liblinear')"
      ]
     },
     "execution_count": 59,
     "metadata": {},
     "output_type": "execute_result"
    }
   ],
   "source": [
    "L1_lr_model1.fit(X_train, y_train)"
   ]
  },
  {
   "cell_type": "code",
   "execution_count": 60,
   "id": "cbd8b57b-213f-4ea4-8c6a-a276b3146c4f",
   "metadata": {},
   "outputs": [
    {
     "data": {
      "text/html": [
       "<style>#sk-container-id-3 {color: black;}#sk-container-id-3 pre{padding: 0;}#sk-container-id-3 div.sk-toggleable {background-color: white;}#sk-container-id-3 label.sk-toggleable__label {cursor: pointer;display: block;width: 100%;margin-bottom: 0;padding: 0.3em;box-sizing: border-box;text-align: center;}#sk-container-id-3 label.sk-toggleable__label-arrow:before {content: \"▸\";float: left;margin-right: 0.25em;color: #696969;}#sk-container-id-3 label.sk-toggleable__label-arrow:hover:before {color: black;}#sk-container-id-3 div.sk-estimator:hover label.sk-toggleable__label-arrow:before {color: black;}#sk-container-id-3 div.sk-toggleable__content {max-height: 0;max-width: 0;overflow: hidden;text-align: left;background-color: #f0f8ff;}#sk-container-id-3 div.sk-toggleable__content pre {margin: 0.2em;color: black;border-radius: 0.25em;background-color: #f0f8ff;}#sk-container-id-3 input.sk-toggleable__control:checked~div.sk-toggleable__content {max-height: 200px;max-width: 100%;overflow: auto;}#sk-container-id-3 input.sk-toggleable__control:checked~label.sk-toggleable__label-arrow:before {content: \"▾\";}#sk-container-id-3 div.sk-estimator input.sk-toggleable__control:checked~label.sk-toggleable__label {background-color: #d4ebff;}#sk-container-id-3 div.sk-label input.sk-toggleable__control:checked~label.sk-toggleable__label {background-color: #d4ebff;}#sk-container-id-3 input.sk-hidden--visually {border: 0;clip: rect(1px 1px 1px 1px);clip: rect(1px, 1px, 1px, 1px);height: 1px;margin: -1px;overflow: hidden;padding: 0;position: absolute;width: 1px;}#sk-container-id-3 div.sk-estimator {font-family: monospace;background-color: #f0f8ff;border: 1px dotted black;border-radius: 0.25em;box-sizing: border-box;margin-bottom: 0.5em;}#sk-container-id-3 div.sk-estimator:hover {background-color: #d4ebff;}#sk-container-id-3 div.sk-parallel-item::after {content: \"\";width: 100%;border-bottom: 1px solid gray;flex-grow: 1;}#sk-container-id-3 div.sk-label:hover label.sk-toggleable__label {background-color: #d4ebff;}#sk-container-id-3 div.sk-serial::before {content: \"\";position: absolute;border-left: 1px solid gray;box-sizing: border-box;top: 0;bottom: 0;left: 50%;z-index: 0;}#sk-container-id-3 div.sk-serial {display: flex;flex-direction: column;align-items: center;background-color: white;padding-right: 0.2em;padding-left: 0.2em;position: relative;}#sk-container-id-3 div.sk-item {position: relative;z-index: 1;}#sk-container-id-3 div.sk-parallel {display: flex;align-items: stretch;justify-content: center;background-color: white;position: relative;}#sk-container-id-3 div.sk-item::before, #sk-container-id-3 div.sk-parallel-item::before {content: \"\";position: absolute;border-left: 1px solid gray;box-sizing: border-box;top: 0;bottom: 0;left: 50%;z-index: -1;}#sk-container-id-3 div.sk-parallel-item {display: flex;flex-direction: column;z-index: 1;position: relative;background-color: white;}#sk-container-id-3 div.sk-parallel-item:first-child::after {align-self: flex-end;width: 50%;}#sk-container-id-3 div.sk-parallel-item:last-child::after {align-self: flex-start;width: 50%;}#sk-container-id-3 div.sk-parallel-item:only-child::after {width: 0;}#sk-container-id-3 div.sk-dashed-wrapped {border: 1px dashed gray;margin: 0 0.4em 0.5em 0.4em;box-sizing: border-box;padding-bottom: 0.4em;background-color: white;}#sk-container-id-3 div.sk-label label {font-family: monospace;font-weight: bold;display: inline-block;line-height: 1.2em;}#sk-container-id-3 div.sk-label-container {text-align: center;}#sk-container-id-3 div.sk-container {/* jupyter's `normalize.less` sets `[hidden] { display: none; }` but bootstrap.min.css set `[hidden] { display: none !important; }` so we also need the `!important` here to be able to override the default hidden behavior on the sphinx rendered scikit-learn.org. See: https://github.com/scikit-learn/scikit-learn/issues/21755 */display: inline-block !important;position: relative;}#sk-container-id-3 div.sk-text-repr-fallback {display: none;}</style><div id=\"sk-container-id-3\" class=\"sk-top-container\"><div class=\"sk-text-repr-fallback\"><pre>LogisticRegression(C=2, penalty=&#x27;l1&#x27;, solver=&#x27;liblinear&#x27;)</pre><b>In a Jupyter environment, please rerun this cell to show the HTML representation or trust the notebook. <br />On GitHub, the HTML representation is unable to render, please try loading this page with nbviewer.org.</b></div><div class=\"sk-container\" hidden><div class=\"sk-item\"><div class=\"sk-estimator sk-toggleable\"><input class=\"sk-toggleable__control sk-hidden--visually\" id=\"sk-estimator-id-3\" type=\"checkbox\" checked><label for=\"sk-estimator-id-3\" class=\"sk-toggleable__label sk-toggleable__label-arrow\">LogisticRegression</label><div class=\"sk-toggleable__content\"><pre>LogisticRegression(C=2, penalty=&#x27;l1&#x27;, solver=&#x27;liblinear&#x27;)</pre></div></div></div></div></div>"
      ],
      "text/plain": [
       "LogisticRegression(C=2, penalty='l1', solver='liblinear')"
      ]
     },
     "execution_count": 60,
     "metadata": {},
     "output_type": "execute_result"
    }
   ],
   "source": [
    "L1_lr_model2.fit(X_train, y_train)"
   ]
  },
  {
   "cell_type": "markdown",
   "id": "d24a9e15-9681-4089-97d9-2cb0e42f8415",
   "metadata": {},
   "source": [
    "*Model Performance*"
   ]
  },
  {
   "cell_type": "code",
   "execution_count": 61,
   "id": "b7a182dd-09a6-4b97-be3a-72f40041b336",
   "metadata": {},
   "outputs": [
    {
     "name": "stdout",
     "output_type": "stream",
     "text": [
      "Model training score: 0.9567010309278351\n",
      "Model testing score: 0.9351411354265778\n"
     ]
    }
   ],
   "source": [
    "printModelScore(L1_lr_model0_5, X_train, X_val, y_train, y_val)"
   ]
  },
  {
   "cell_type": "code",
   "execution_count": 62,
   "id": "eb984968-519c-45a5-bc7e-86f89ba07f56",
   "metadata": {},
   "outputs": [
    {
     "name": "stdout",
     "output_type": "stream",
     "text": [
      "Model training score: 0.9701030927835051\n",
      "Model testing score: 0.9427529337139232\n"
     ]
    }
   ],
   "source": [
    "printModelScore(L1_lr_model1, X_train, X_val, y_train, y_val)"
   ]
  },
  {
   "cell_type": "code",
   "execution_count": 63,
   "id": "b3281e9c-320c-4bad-b45c-c0e069ba70d0",
   "metadata": {},
   "outputs": [
    {
     "name": "stdout",
     "output_type": "stream",
     "text": [
      "Model training score: 0.9878667724028549\n",
      "Model testing score: 0.9441801458928005\n"
     ]
    }
   ],
   "source": [
    "printModelScore(L1_lr_model2, X_train, X_val, y_train, y_val)"
   ]
  },
  {
   "cell_type": "markdown",
   "id": "83451adc-9831-4774-a9a7-1998204e6df0",
   "metadata": {},
   "source": [
    "*Amount of features per model*"
   ]
  },
  {
   "cell_type": "code",
   "execution_count": 64,
   "id": "1a27cf71-4aa1-4610-a455-6c9da0b71926",
   "metadata": {},
   "outputs": [],
   "source": [
    "relevant0_5 = [coef for coef in list(L1_lr_model0_5.coef_[0]) if coef != 0]"
   ]
  },
  {
   "cell_type": "code",
   "execution_count": 65,
   "id": "5f60a5d8-b064-4aac-a829-2b3e522d0598",
   "metadata": {},
   "outputs": [
    {
     "data": {
      "text/plain": [
       "1041"
      ]
     },
     "execution_count": 65,
     "metadata": {},
     "output_type": "execute_result"
    }
   ],
   "source": [
    "len(relevant0_5)"
   ]
  },
  {
   "cell_type": "code",
   "execution_count": 66,
   "id": "0d9f09cc-9f06-4ecc-bc87-2c4eb0c4e572",
   "metadata": {},
   "outputs": [],
   "source": [
    "relevant1 = [coef for coef in list(L1_lr_model1.coef_[0]) if coef != 0]"
   ]
  },
  {
   "cell_type": "code",
   "execution_count": 67,
   "id": "fd9d85ab-aab4-4767-900d-db0f29022f29",
   "metadata": {},
   "outputs": [
    {
     "data": {
      "text/plain": [
       "1561"
      ]
     },
     "execution_count": 67,
     "metadata": {},
     "output_type": "execute_result"
    }
   ],
   "source": [
    "len(relevant1)"
   ]
  },
  {
   "cell_type": "code",
   "execution_count": 68,
   "id": "9ac40aa8-08a1-48a3-bdc2-fce0013034c6",
   "metadata": {},
   "outputs": [],
   "source": [
    "relevant2 = [coef for coef in list(L1_lr_model2.coef_[0]) if coef != 0]"
   ]
  },
  {
   "cell_type": "code",
   "execution_count": 69,
   "id": "43b8c796-01ab-46dd-b41c-e73184caba61",
   "metadata": {},
   "outputs": [
    {
     "data": {
      "text/plain": [
       "2216"
      ]
     },
     "execution_count": 69,
     "metadata": {},
     "output_type": "execute_result"
    }
   ],
   "source": [
    "len(relevant2)"
   ]
  },
  {
   "cell_type": "markdown",
   "id": "1350220e-8a05-4e19-80d7-b6c78312d048",
   "metadata": {},
   "source": [
    "#### Result of L1 regression\n",
    "\n",
    "The logistic regression model with the L1 loss function managed to zero out all but 1700 features, which it clarified as relevant by assigning them a coef. Changing the C hyperparameter to 0.5 made it use 1112 which saw a reduction in both overfitting and performance, while increasing it to 2 saw both increase."
   ]
  },
  {
   "cell_type": "markdown",
   "id": "d1620e73-499d-4f1f-8ba2-853342ff839e",
   "metadata": {},
   "source": [
    "#### L2 model:\n",
    "\n",
    "To best perform feature selection with L2 regression, there might be need for a sequential feature selection process.\n",
    "\n",
    "L2 without feature selection:"
   ]
  },
  {
   "cell_type": "code",
   "execution_count": 70,
   "id": "e9d364d1-cef0-4237-b807-67754d59f404",
   "metadata": {},
   "outputs": [],
   "source": [
    "L2_lr_model = LogisticRegression(penalty='l2')"
   ]
  },
  {
   "cell_type": "code",
   "execution_count": 71,
   "id": "832b61e6-2355-4d20-a28b-937f7400c72b",
   "metadata": {},
   "outputs": [
    {
     "name": "stderr",
     "output_type": "stream",
     "text": [
      "C:\\Users\\jonne\\anaconda3\\envs\\MLwNLP\\lib\\site-packages\\sklearn\\linear_model\\_logistic.py:460: ConvergenceWarning: lbfgs failed to converge (status=1):\n",
      "STOP: TOTAL NO. of ITERATIONS REACHED LIMIT.\n",
      "\n",
      "Increase the number of iterations (max_iter) or scale the data as shown in:\n",
      "    https://scikit-learn.org/stable/modules/preprocessing.html\n",
      "Please also refer to the documentation for alternative solver options:\n",
      "    https://scikit-learn.org/stable/modules/linear_model.html#logistic-regression\n",
      "  n_iter_i = _check_optimize_result(\n"
     ]
    },
    {
     "data": {
      "text/html": [
       "<style>#sk-container-id-4 {color: black;}#sk-container-id-4 pre{padding: 0;}#sk-container-id-4 div.sk-toggleable {background-color: white;}#sk-container-id-4 label.sk-toggleable__label {cursor: pointer;display: block;width: 100%;margin-bottom: 0;padding: 0.3em;box-sizing: border-box;text-align: center;}#sk-container-id-4 label.sk-toggleable__label-arrow:before {content: \"▸\";float: left;margin-right: 0.25em;color: #696969;}#sk-container-id-4 label.sk-toggleable__label-arrow:hover:before {color: black;}#sk-container-id-4 div.sk-estimator:hover label.sk-toggleable__label-arrow:before {color: black;}#sk-container-id-4 div.sk-toggleable__content {max-height: 0;max-width: 0;overflow: hidden;text-align: left;background-color: #f0f8ff;}#sk-container-id-4 div.sk-toggleable__content pre {margin: 0.2em;color: black;border-radius: 0.25em;background-color: #f0f8ff;}#sk-container-id-4 input.sk-toggleable__control:checked~div.sk-toggleable__content {max-height: 200px;max-width: 100%;overflow: auto;}#sk-container-id-4 input.sk-toggleable__control:checked~label.sk-toggleable__label-arrow:before {content: \"▾\";}#sk-container-id-4 div.sk-estimator input.sk-toggleable__control:checked~label.sk-toggleable__label {background-color: #d4ebff;}#sk-container-id-4 div.sk-label input.sk-toggleable__control:checked~label.sk-toggleable__label {background-color: #d4ebff;}#sk-container-id-4 input.sk-hidden--visually {border: 0;clip: rect(1px 1px 1px 1px);clip: rect(1px, 1px, 1px, 1px);height: 1px;margin: -1px;overflow: hidden;padding: 0;position: absolute;width: 1px;}#sk-container-id-4 div.sk-estimator {font-family: monospace;background-color: #f0f8ff;border: 1px dotted black;border-radius: 0.25em;box-sizing: border-box;margin-bottom: 0.5em;}#sk-container-id-4 div.sk-estimator:hover {background-color: #d4ebff;}#sk-container-id-4 div.sk-parallel-item::after {content: \"\";width: 100%;border-bottom: 1px solid gray;flex-grow: 1;}#sk-container-id-4 div.sk-label:hover label.sk-toggleable__label {background-color: #d4ebff;}#sk-container-id-4 div.sk-serial::before {content: \"\";position: absolute;border-left: 1px solid gray;box-sizing: border-box;top: 0;bottom: 0;left: 50%;z-index: 0;}#sk-container-id-4 div.sk-serial {display: flex;flex-direction: column;align-items: center;background-color: white;padding-right: 0.2em;padding-left: 0.2em;position: relative;}#sk-container-id-4 div.sk-item {position: relative;z-index: 1;}#sk-container-id-4 div.sk-parallel {display: flex;align-items: stretch;justify-content: center;background-color: white;position: relative;}#sk-container-id-4 div.sk-item::before, #sk-container-id-4 div.sk-parallel-item::before {content: \"\";position: absolute;border-left: 1px solid gray;box-sizing: border-box;top: 0;bottom: 0;left: 50%;z-index: -1;}#sk-container-id-4 div.sk-parallel-item {display: flex;flex-direction: column;z-index: 1;position: relative;background-color: white;}#sk-container-id-4 div.sk-parallel-item:first-child::after {align-self: flex-end;width: 50%;}#sk-container-id-4 div.sk-parallel-item:last-child::after {align-self: flex-start;width: 50%;}#sk-container-id-4 div.sk-parallel-item:only-child::after {width: 0;}#sk-container-id-4 div.sk-dashed-wrapped {border: 1px dashed gray;margin: 0 0.4em 0.5em 0.4em;box-sizing: border-box;padding-bottom: 0.4em;background-color: white;}#sk-container-id-4 div.sk-label label {font-family: monospace;font-weight: bold;display: inline-block;line-height: 1.2em;}#sk-container-id-4 div.sk-label-container {text-align: center;}#sk-container-id-4 div.sk-container {/* jupyter's `normalize.less` sets `[hidden] { display: none; }` but bootstrap.min.css set `[hidden] { display: none !important; }` so we also need the `!important` here to be able to override the default hidden behavior on the sphinx rendered scikit-learn.org. See: https://github.com/scikit-learn/scikit-learn/issues/21755 */display: inline-block !important;position: relative;}#sk-container-id-4 div.sk-text-repr-fallback {display: none;}</style><div id=\"sk-container-id-4\" class=\"sk-top-container\"><div class=\"sk-text-repr-fallback\"><pre>LogisticRegression()</pre><b>In a Jupyter environment, please rerun this cell to show the HTML representation or trust the notebook. <br />On GitHub, the HTML representation is unable to render, please try loading this page with nbviewer.org.</b></div><div class=\"sk-container\" hidden><div class=\"sk-item\"><div class=\"sk-estimator sk-toggleable\"><input class=\"sk-toggleable__control sk-hidden--visually\" id=\"sk-estimator-id-4\" type=\"checkbox\" checked><label for=\"sk-estimator-id-4\" class=\"sk-toggleable__label sk-toggleable__label-arrow\">LogisticRegression</label><div class=\"sk-toggleable__content\"><pre>LogisticRegression()</pre></div></div></div></div></div>"
      ],
      "text/plain": [
       "LogisticRegression()"
      ]
     },
     "execution_count": 71,
     "metadata": {},
     "output_type": "execute_result"
    }
   ],
   "source": [
    "L2_lr_model.fit(X_train, y_train)"
   ]
  },
  {
   "cell_type": "code",
   "execution_count": 72,
   "id": "b84601fe-e26f-4211-bf9b-80e490729ec8",
   "metadata": {},
   "outputs": [
    {
     "name": "stdout",
     "output_type": "stream",
     "text": [
      "Model training score: 0.8863600317208564\n",
      "Model testing score: 0.878686964795433\n"
     ]
    }
   ],
   "source": [
    "printModelScore(L2_lr_model, X_train, X_val, y_train, y_val)"
   ]
  },
  {
   "cell_type": "code",
   "execution_count": 73,
   "id": "de1654c3-97fb-4a34-a699-c0cc2043fdb1",
   "metadata": {},
   "outputs": [],
   "source": [
    "relevantL2 = [coef for coef in list(L2_lr_model.coef_[0]) if coef != 0]"
   ]
  },
  {
   "cell_type": "code",
   "execution_count": 74,
   "id": "9b19a989-e150-4ae2-a40e-b63a79a2c342",
   "metadata": {},
   "outputs": [
    {
     "data": {
      "text/plain": [
       "11127"
      ]
     },
     "execution_count": 74,
     "metadata": {},
     "output_type": "execute_result"
    }
   ],
   "source": [
    "len(relevantL2)"
   ]
  },
  {
   "cell_type": "markdown",
   "id": "2a37cee2-44ef-4373-b005-a77f17f5bd2e",
   "metadata": {},
   "source": [
    "*Conclusion:* without feature selection, the model tries to analyze too many features of the dataset.\n",
    "\n",
    "By performing sequential feature selection, this can be overcome."
   ]
  },
  {
   "cell_type": "markdown",
   "id": "98fa36cb-8b25-4ad5-bb7c-1a879f586155",
   "metadata": {},
   "source": [
    "#### Plotting Results"
   ]
  },
  {
   "cell_type": "code",
   "execution_count": 89,
   "id": "da924c65-97f5-4131-b0e1-6a5fe3f1c04d",
   "metadata": {},
   "outputs": [
    {
     "name": "stderr",
     "output_type": "stream",
     "text": [
      "C:\\Users\\jonne\\AppData\\Local\\Temp\\ipykernel_9096\\3579831613.py:11: MatplotlibDeprecationWarning: Passing the emit parameter of set_ylim() positionally is deprecated since Matplotlib 3.6; the parameter will become keyword-only two minor releases later.\n",
      "  ax[indexes[j]].set_ylim(0.8, 1, 0.2)\n",
      "C:\\Users\\jonne\\AppData\\Local\\Temp\\ipykernel_9096\\3579831613.py:11: MatplotlibDeprecationWarning: Passing the emit parameter of set_ylim() positionally is deprecated since Matplotlib 3.6; the parameter will become keyword-only two minor releases later.\n",
      "  ax[indexes[j]].set_ylim(0.8, 1, 0.2)\n",
      "C:\\Users\\jonne\\AppData\\Local\\Temp\\ipykernel_9096\\3579831613.py:11: MatplotlibDeprecationWarning: Passing the emit parameter of set_ylim() positionally is deprecated since Matplotlib 3.6; the parameter will become keyword-only two minor releases later.\n",
      "  ax[indexes[j]].set_ylim(0.8, 1, 0.2)\n",
      "C:\\Users\\jonne\\AppData\\Local\\Temp\\ipykernel_9096\\3579831613.py:11: MatplotlibDeprecationWarning: Passing the emit parameter of set_ylim() positionally is deprecated since Matplotlib 3.6; the parameter will become keyword-only two minor releases later.\n",
      "  ax[indexes[j]].set_ylim(0.8, 1, 0.2)\n"
     ]
    },
    {
     "data": {
      "image/png": "[encoded data removed]",
      "text/plain": [
       "<Figure size 640x480 with 4 Axes>"
      ]
     },
     "metadata": {},
     "output_type": "display_data"
    }
   ],
   "source": [
    "fig, ax = plt.subplots(2,2)\n",
    "fig.suptitle(\"Statistics for models after training\")\n",
    "fig.tight_layout(pad=2.0)\n",
    "indexes = [(0,0), (0,1), (1,0), (1,1)]\n",
    "titles = [\"L1 regressor, C=0.5, 1112 features \", \"L1 regressor, C=1, 1693 features, \", \"L1 regressor, C=2, 2384 features\", \"L2 regressor, C=1, 11496 features\"]\n",
    "j = 0\n",
    "for i in [L1_lr_model0_5, L1_lr_model1, L1_lr_model2, L2_lr_model]:\n",
    "    ax[indexes[j]].bar([\"Tr. Acc\", \"Val Acc\"], [i.score(X_train, y_train), i.score(X_val, y_val)], color=[\"orange\", \"grey\", \"blue\"])\n",
    "    ax[indexes[j]].axhline(y = (i.score(X_train, y_train) + i.score(X_test, y_test))/2 , color = 'r', linestyle=':')\n",
    "    ax[indexes[j]].set_title(titles[j], size=10)\n",
    "    ax[indexes[j]].set_ylim(0.8, 1, 0.2)\n",
    "    j = j+1\n",
    "plt.show()"
   ]
  },
  {
   "cell_type": "markdown",
   "id": "7530a528-19df-4ad5-b1a7-2e962cf1e857",
   "metadata": {},
   "source": [
    "#### *RFC model:*\n",
    " - **RFC**: RandomForestClassifier from sklearn library\n",
    " -  The feature selection will be done by cross-validation at the same time as hyperparameter tuning. To reduce computational resources required, the Randomized Search algorithm will be used.\n",
    " -  The best model will then be compared to the performance of the LogisticRegression models to see which alternative is prefarable and whether\n",
    "combining them can be to any help."
   ]
  },
  {
   "cell_type": "code",
   "execution_count": 76,
   "id": "a4b8f9d2-1b3f-43a6-9f16-d343e2084718",
   "metadata": {},
   "outputs": [],
   "source": [
    "RFC = RandomForestClassifier()"
   ]
  },
  {
   "cell_type": "code",
   "execution_count": 77,
   "id": "6871b660-927f-4aa3-97cc-721a196ac504",
   "metadata": {},
   "outputs": [],
   "source": [
    "RandomSearch1 = RandomizedSearchCV(\n",
    "    RFC,\n",
    "    param_distributions = {\n",
    "            \n",
    "            'n_estimators': [100, 200, 500],\n",
    "            'max_depth': [None, 10, 20, 30],\n",
    "            'min_samples_split': [2, 5, 10],\n",
    "            'min_samples_leaf': [1, 2, 4],\n",
    "            'max_features': ['sqrt', 'log2'],\n",
    "            'bootstrap': [True]\n",
    "    },\n",
    "    cv = 3,\n",
    "    n_jobs = 4,\n",
    "    random_state = 42\n",
    ")"
   ]
  },
  {
   "cell_type": "code",
   "execution_count": 78,
   "id": "86f312c2-4140-44f5-9d59-2aad744ab2fb",
   "metadata": {},
   "outputs": [
    {
     "data": {
      "text/html": [
       "<style>#sk-container-id-5 {color: black;}#sk-container-id-5 pre{padding: 0;}#sk-container-id-5 div.sk-toggleable {background-color: white;}#sk-container-id-5 label.sk-toggleable__label {cursor: pointer;display: block;width: 100%;margin-bottom: 0;padding: 0.3em;box-sizing: border-box;text-align: center;}#sk-container-id-5 label.sk-toggleable__label-arrow:before {content: \"▸\";float: left;margin-right: 0.25em;color: #696969;}#sk-container-id-5 label.sk-toggleable__label-arrow:hover:before {color: black;}#sk-container-id-5 div.sk-estimator:hover label.sk-toggleable__label-arrow:before {color: black;}#sk-container-id-5 div.sk-toggleable__content {max-height: 0;max-width: 0;overflow: hidden;text-align: left;background-color: #f0f8ff;}#sk-container-id-5 div.sk-toggleable__content pre {margin: 0.2em;color: black;border-radius: 0.25em;background-color: #f0f8ff;}#sk-container-id-5 input.sk-toggleable__control:checked~div.sk-toggleable__content {max-height: 200px;max-width: 100%;overflow: auto;}#sk-container-id-5 input.sk-toggleable__control:checked~label.sk-toggleable__label-arrow:before {content: \"▾\";}#sk-container-id-5 div.sk-estimator input.sk-toggleable__control:checked~label.sk-toggleable__label {background-color: #d4ebff;}#sk-container-id-5 div.sk-label input.sk-toggleable__control:checked~label.sk-toggleable__label {background-color: #d4ebff;}#sk-container-id-5 input.sk-hidden--visually {border: 0;clip: rect(1px 1px 1px 1px);clip: rect(1px, 1px, 1px, 1px);height: 1px;margin: -1px;overflow: hidden;padding: 0;position: absolute;width: 1px;}#sk-container-id-5 div.sk-estimator {font-family: monospace;background-color: #f0f8ff;border: 1px dotted black;border-radius: 0.25em;box-sizing: border-box;margin-bottom: 0.5em;}#sk-container-id-5 div.sk-estimator:hover {background-color: #d4ebff;}#sk-container-id-5 div.sk-parallel-item::after {content: \"\";width: 100%;border-bottom: 1px solid gray;flex-grow: 1;}#sk-container-id-5 div.sk-label:hover label.sk-toggleable__label {background-color: #d4ebff;}#sk-container-id-5 div.sk-serial::before {content: \"\";position: absolute;border-left: 1px solid gray;box-sizing: border-box;top: 0;bottom: 0;left: 50%;z-index: 0;}#sk-container-id-5 div.sk-serial {display: flex;flex-direction: column;align-items: center;background-color: white;padding-right: 0.2em;padding-left: 0.2em;position: relative;}#sk-container-id-5 div.sk-item {position: relative;z-index: 1;}#sk-container-id-5 div.sk-parallel {display: flex;align-items: stretch;justify-content: center;background-color: white;position: relative;}#sk-container-id-5 div.sk-item::before, #sk-container-id-5 div.sk-parallel-item::before {content: \"\";position: absolute;border-left: 1px solid gray;box-sizing: border-box;top: 0;bottom: 0;left: 50%;z-index: -1;}#sk-container-id-5 div.sk-parallel-item {display: flex;flex-direction: column;z-index: 1;position: relative;background-color: white;}#sk-container-id-5 div.sk-parallel-item:first-child::after {align-self: flex-end;width: 50%;}#sk-container-id-5 div.sk-parallel-item:last-child::after {align-self: flex-start;width: 50%;}#sk-container-id-5 div.sk-parallel-item:only-child::after {width: 0;}#sk-container-id-5 div.sk-dashed-wrapped {border: 1px dashed gray;margin: 0 0.4em 0.5em 0.4em;box-sizing: border-box;padding-bottom: 0.4em;background-color: white;}#sk-container-id-5 div.sk-label label {font-family: monospace;font-weight: bold;display: inline-block;line-height: 1.2em;}#sk-container-id-5 div.sk-label-container {text-align: center;}#sk-container-id-5 div.sk-container {/* jupyter's `normalize.less` sets `[hidden] { display: none; }` but bootstrap.min.css set `[hidden] { display: none !important; }` so we also need the `!important` here to be able to override the default hidden behavior on the sphinx rendered scikit-learn.org. See: https://github.com/scikit-learn/scikit-learn/issues/21755 */display: inline-block !important;position: relative;}#sk-container-id-5 div.sk-text-repr-fallback {display: none;}</style><div id=\"sk-container-id-5\" class=\"sk-top-container\"><div class=\"sk-text-repr-fallback\"><pre>RandomizedSearchCV(cv=3, estimator=RandomForestClassifier(), n_jobs=4,\n",
       "                   param_distributions={&#x27;bootstrap&#x27;: [True],\n",
       "                                        &#x27;max_depth&#x27;: [None, 10, 20, 30],\n",
       "                                        &#x27;max_features&#x27;: [&#x27;sqrt&#x27;, &#x27;log2&#x27;],\n",
       "                                        &#x27;min_samples_leaf&#x27;: [1, 2, 4],\n",
       "                                        &#x27;min_samples_split&#x27;: [2, 5, 10],\n",
       "                                        &#x27;n_estimators&#x27;: [100, 200, 500]},\n",
       "                   random_state=42)</pre><b>In a Jupyter environment, please rerun this cell to show the HTML representation or trust the notebook. <br />On GitHub, the HTML representation is unable to render, please try loading this page with nbviewer.org.</b></div><div class=\"sk-container\" hidden><div class=\"sk-item sk-dashed-wrapped\"><div class=\"sk-label-container\"><div class=\"sk-label sk-toggleable\"><input class=\"sk-toggleable__control sk-hidden--visually\" id=\"sk-estimator-id-5\" type=\"checkbox\" ><label for=\"sk-estimator-id-5\" class=\"sk-toggleable__label sk-toggleable__label-arrow\">RandomizedSearchCV</label><div class=\"sk-toggleable__content\"><pre>RandomizedSearchCV(cv=3, estimator=RandomForestClassifier(), n_jobs=4,\n",
       "                   param_distributions={&#x27;bootstrap&#x27;: [True],\n",
       "                                        &#x27;max_depth&#x27;: [None, 10, 20, 30],\n",
       "                                        &#x27;max_features&#x27;: [&#x27;sqrt&#x27;, &#x27;log2&#x27;],\n",
       "                                        &#x27;min_samples_leaf&#x27;: [1, 2, 4],\n",
       "                                        &#x27;min_samples_split&#x27;: [2, 5, 10],\n",
       "                                        &#x27;n_estimators&#x27;: [100, 200, 500]},\n",
       "                   random_state=42)</pre></div></div></div><div class=\"sk-parallel\"><div class=\"sk-parallel-item\"><div class=\"sk-item\"><div class=\"sk-label-container\"><div class=\"sk-label sk-toggleable\"><input class=\"sk-toggleable__control sk-hidden--visually\" id=\"sk-estimator-id-6\" type=\"checkbox\" ><label for=\"sk-estimator-id-6\" class=\"sk-toggleable__label sk-toggleable__label-arrow\">estimator: RandomForestClassifier</label><div class=\"sk-toggleable__content\"><pre>RandomForestClassifier()</pre></div></div></div><div class=\"sk-serial\"><div class=\"sk-item\"><div class=\"sk-estimator sk-toggleable\"><input class=\"sk-toggleable__control sk-hidden--visually\" id=\"sk-estimator-id-7\" type=\"checkbox\" ><label for=\"sk-estimator-id-7\" class=\"sk-toggleable__label sk-toggleable__label-arrow\">RandomForestClassifier</label><div class=\"sk-toggleable__content\"><pre>RandomForestClassifier()</pre></div></div></div></div></div></div></div></div></div></div>"
      ],
      "text/plain": [
       "RandomizedSearchCV(cv=3, estimator=RandomForestClassifier(), n_jobs=4,\n",
       "                   param_distributions={'bootstrap': [True],\n",
       "                                        'max_depth': [None, 10, 20, 30],\n",
       "                                        'max_features': ['sqrt', 'log2'],\n",
       "                                        'min_samples_leaf': [1, 2, 4],\n",
       "                                        'min_samples_split': [2, 5, 10],\n",
       "                                        'n_estimators': [100, 200, 500]},\n",
       "                   random_state=42)"
      ]
     },
     "execution_count": 78,
     "metadata": {},
     "output_type": "execute_result"
    }
   ],
   "source": [
    "RandomSearch1.fit(X_train, y_train)"
   ]
  },
  {
   "cell_type": "code",
   "execution_count": 79,
   "id": "9626b694-fefb-4a37-b2bf-ce28ab6c076b",
   "metadata": {},
   "outputs": [
    {
     "data": {
      "text/plain": [
       "{'n_estimators': 100,\n",
       " 'min_samples_split': 10,\n",
       " 'min_samples_leaf': 2,\n",
       " 'max_features': 'sqrt',\n",
       " 'max_depth': None,\n",
       " 'bootstrap': True}"
      ]
     },
     "execution_count": 79,
     "metadata": {},
     "output_type": "execute_result"
    }
   ],
   "source": [
    "RandomSearch1.best_params_"
   ]
  },
  {
   "cell_type": "code",
   "execution_count": 80,
   "id": "da4b6e54-49ca-4e1c-b334-49aae9b38d10",
   "metadata": {},
   "outputs": [
    {
     "name": "stdout",
     "output_type": "stream",
     "text": [
      "Model training score: 0.9581284694686757\n",
      "Model testing score: 0.9199175388518871\n"
     ]
    }
   ],
   "source": [
    "printModelScore(RandomSearch1.best_estimator_, X_train, X_val, y_train, y_val)"
   ]
  },
  {
   "cell_type": "markdown",
   "id": "65350183-c138-4c50-885d-83adcdc6f331",
   "metadata": {},
   "source": [
    "Going further to visualize the difference in performance with confusion matrices"
   ]
  },
  {
   "cell_type": "code",
   "execution_count": 81,
   "id": "8a7c775c-d61b-4046-b043-94a74cd4b7eb",
   "metadata": {},
   "outputs": [],
   "source": [
    "RFC = RandomSearch1.best_estimator_"
   ]
  },
  {
   "cell_type": "code",
   "execution_count": 90,
   "id": "d9b4dec3-9ea9-47d0-8b3f-b035c351a715",
   "metadata": {},
   "outputs": [],
   "source": [
    "rfc_pred = RandomSearch1.best_estimator_.predict(X_val)"
   ]
  },
  {
   "cell_type": "code",
   "execution_count": 91,
   "id": "1e2d1a7a-8c80-4624-bd2c-fbf0ce0ea76b",
   "metadata": {},
   "outputs": [],
   "source": [
    "lr_pred = L1_lr_model1.predict(X_val)"
   ]
  },
  {
   "cell_type": "code",
   "execution_count": 92,
   "id": "c0c558e9-c0ab-4052-85c3-51252ceb6bfa",
   "metadata": {},
   "outputs": [],
   "source": [
    "conf_matR = confusion_matrix(rfc_pred, y_val)"
   ]
  },
  {
   "cell_type": "code",
   "execution_count": 93,
   "id": "ce6c8857-15f5-4c33-96c7-e900550683a6",
   "metadata": {},
   "outputs": [],
   "source": [
    "conf_matL = confusion_matrix(lr_pred, y_val)"
   ]
  },
  {
   "cell_type": "code",
   "execution_count": 99,
   "id": "ce416836-1d99-4303-b810-d376798b31cb",
   "metadata": {},
   "outputs": [
    {
     "data": {
      "image/png": "[encoded data removed]",
      "text/plain": [
       "<Figure size 640x480 with 2 Axes>"
      ]
     },
     "metadata": {},
     "output_type": "display_data"
    }
   ],
   "source": [
    "sns.heatmap(conf_matR,\n",
    "            xticklabels=['Fake','True'],\n",
    "            yticklabels=['Fake','True'],\n",
    "           fmt = 'g',\n",
    "           cmap = 'coolwarm',\n",
    "           annot = True,\n",
    "           annot_kws = {'size': 15, 'weight': 'bold', 'family': 'Times New Roman'})\n",
    "plt.ylabel('Prediction',fontsize=12, fontfamily=\"Times New Roman\")\n",
    "plt.xlabel('Actual',fontsize=12, fontfamily=\"Times New Roman\")\n",
    "plt.title('Random Forest Classifier', fontsize=17, fontfamily=\"Times New Roman\")\n",
    "plt.show()"
   ]
  },
  {
   "cell_type": "code",
   "execution_count": 101,
   "id": "ea894d8c-10be-434f-af6c-6c26f698afe8",
   "metadata": {},
   "outputs": [
    {
     "data": {
      "image/png": "[encoded data removed]",
      "text/plain": [
       "<Figure size 640x480 with 2 Axes>"
      ]
     },
     "metadata": {},
     "output_type": "display_data"
    }
   ],
   "source": [
    "sns.heatmap(conf_matL, \n",
    "            annot=True,\n",
    "            xticklabels=['Fake','True'],\n",
    "            yticklabels=['Fake','True'],\n",
    "           fmt = 'g',\n",
    "           cmap = 'coolwarm',\n",
    "           annot_kws = {'size': 15, 'weight': 'bold', 'family': 'Times New Roman'})\n",
    "plt.ylabel('Prediction',fontsize=12, fontfamily=\"Times New Roman\")\n",
    "plt.xlabel('Actual',fontsize=12, fontfamily=\"Times New Roman\")\n",
    "plt.title('Logistic Regression', fontsize=17, fontfamily=\"Times New Roman\")\n",
    "plt.show()"
   ]
  },
  {
   "cell_type": "markdown",
   "id": "68513af1-c429-4d8d-b2a5-e921ea7a02b4",
   "metadata": {},
   "source": [
    "### Final Test\n",
    "*As the **Logistic Regression** model performed a lot better, it was chosen. Finally testing how well it performed on test data.*"
   ]
  },
  {
   "cell_type": "code",
   "execution_count": 88,
   "id": "8fb2ed13-7924-4f48-a936-c650ac9b9997",
   "metadata": {},
   "outputs": [
    {
     "name": "stdout",
     "output_type": "stream",
     "text": [
      "Model training score: 0.9701030927835051\n",
      "Model testing score: 0.941764202112475\n"
     ]
    }
   ],
   "source": [
    "printModelScore(L1_lr_model1, X_train, X_test, y_train, y_test)"
   ]
  }
 ],
 "metadata": {
  "kernelspec": {
   "display_name": "Python 3 (ipykernel)",
   "language": "python",
   "name": "python3"
  },
  "language_info": {
   "codemirror_mode": {
    "name": "ipython",
    "version": 3
   },
   "file_extension": ".py",
   "mimetype": "text/x-python",
   "name": "python",
   "nbconvert_exporter": "python",
   "pygments_lexer": "ipython3",
   "version": "3.10.9"
  }
 },
 "nbformat": 4,
 "nbformat_minor": 5
}
